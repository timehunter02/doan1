{
 "cells": [
  {
   "cell_type": "code",
   "execution_count": 1,
   "id": "8f59cd38",
   "metadata": {
    "scrolled": false
   },
   "outputs": [
    {
     "data": {
      "text/html": [
       "<div>\n",
       "<style scoped>\n",
       "    .dataframe tbody tr th:only-of-type {\n",
       "        vertical-align: middle;\n",
       "    }\n",
       "\n",
       "    .dataframe tbody tr th {\n",
       "        vertical-align: top;\n",
       "    }\n",
       "\n",
       "    .dataframe thead th {\n",
       "        text-align: right;\n",
       "    }\n",
       "</style>\n",
       "<table border=\"1\" class=\"dataframe\">\n",
       "  <thead>\n",
       "    <tr style=\"text-align: right;\">\n",
       "      <th></th>\n",
       "      <th>month</th>\n",
       "      <th>credit_amount</th>\n",
       "      <th>credit_term</th>\n",
       "      <th>age</th>\n",
       "      <th>sex</th>\n",
       "      <th>education</th>\n",
       "      <th>product_type</th>\n",
       "      <th>having_children_flg</th>\n",
       "      <th>region</th>\n",
       "      <th>income</th>\n",
       "      <th>family_status</th>\n",
       "      <th>phone_operator</th>\n",
       "      <th>is_client</th>\n",
       "      <th>bad_client_target</th>\n",
       "    </tr>\n",
       "  </thead>\n",
       "  <tbody>\n",
       "    <tr>\n",
       "      <th>0</th>\n",
       "      <td>1</td>\n",
       "      <td>7000</td>\n",
       "      <td>12</td>\n",
       "      <td>39</td>\n",
       "      <td>male</td>\n",
       "      <td>Secondary special education</td>\n",
       "      <td>Cell phones</td>\n",
       "      <td>0</td>\n",
       "      <td>2</td>\n",
       "      <td>21000</td>\n",
       "      <td>Another</td>\n",
       "      <td>0</td>\n",
       "      <td>0</td>\n",
       "      <td>0</td>\n",
       "    </tr>\n",
       "    <tr>\n",
       "      <th>1</th>\n",
       "      <td>1</td>\n",
       "      <td>19000</td>\n",
       "      <td>6</td>\n",
       "      <td>20</td>\n",
       "      <td>male</td>\n",
       "      <td>Secondary special education</td>\n",
       "      <td>Household appliances</td>\n",
       "      <td>1</td>\n",
       "      <td>2</td>\n",
       "      <td>17000</td>\n",
       "      <td>Another</td>\n",
       "      <td>3</td>\n",
       "      <td>1</td>\n",
       "      <td>0</td>\n",
       "    </tr>\n",
       "    <tr>\n",
       "      <th>2</th>\n",
       "      <td>1</td>\n",
       "      <td>29000</td>\n",
       "      <td>12</td>\n",
       "      <td>23</td>\n",
       "      <td>female</td>\n",
       "      <td>Secondary special education</td>\n",
       "      <td>Household appliances</td>\n",
       "      <td>0</td>\n",
       "      <td>2</td>\n",
       "      <td>31000</td>\n",
       "      <td>Another</td>\n",
       "      <td>2</td>\n",
       "      <td>0</td>\n",
       "      <td>0</td>\n",
       "    </tr>\n",
       "    <tr>\n",
       "      <th>3</th>\n",
       "      <td>1</td>\n",
       "      <td>10000</td>\n",
       "      <td>12</td>\n",
       "      <td>30</td>\n",
       "      <td>male</td>\n",
       "      <td>Secondary special education</td>\n",
       "      <td>Cell phones</td>\n",
       "      <td>1</td>\n",
       "      <td>2</td>\n",
       "      <td>31000</td>\n",
       "      <td>Unmarried</td>\n",
       "      <td>3</td>\n",
       "      <td>1</td>\n",
       "      <td>0</td>\n",
       "    </tr>\n",
       "    <tr>\n",
       "      <th>4</th>\n",
       "      <td>1</td>\n",
       "      <td>14500</td>\n",
       "      <td>12</td>\n",
       "      <td>25</td>\n",
       "      <td>female</td>\n",
       "      <td>Higher education</td>\n",
       "      <td>Cell phones</td>\n",
       "      <td>0</td>\n",
       "      <td>2</td>\n",
       "      <td>26000</td>\n",
       "      <td>Married</td>\n",
       "      <td>0</td>\n",
       "      <td>1</td>\n",
       "      <td>0</td>\n",
       "    </tr>\n",
       "  </tbody>\n",
       "</table>\n",
       "</div>"
      ],
      "text/plain": [
       "   month  credit_amount  credit_term  age     sex  \\\n",
       "0      1           7000           12   39    male   \n",
       "1      1          19000            6   20    male   \n",
       "2      1          29000           12   23  female   \n",
       "3      1          10000           12   30    male   \n",
       "4      1          14500           12   25  female   \n",
       "\n",
       "                     education          product_type  having_children_flg  \\\n",
       "0  Secondary special education           Cell phones                    0   \n",
       "1  Secondary special education  Household appliances                    1   \n",
       "2  Secondary special education  Household appliances                    0   \n",
       "3  Secondary special education           Cell phones                    1   \n",
       "4             Higher education           Cell phones                    0   \n",
       "\n",
       "   region  income family_status  phone_operator  is_client  bad_client_target  \n",
       "0       2   21000       Another               0          0                  0  \n",
       "1       2   17000       Another               3          1                  0  \n",
       "2       2   31000       Another               2          0                  0  \n",
       "3       2   31000     Unmarried               3          1                  0  \n",
       "4       2   26000       Married               0          1                  0  "
      ]
     },
     "execution_count": 1,
     "metadata": {},
     "output_type": "execute_result"
    }
   ],
   "source": [
    "import pandas as pd\n",
    "df = pd.read_csv(\"C:\\\\Users\\\\lephu\\\\doan1\\\\clients.csv\")\n",
    "df.head()"
   ]
  },
  {
   "cell_type": "markdown",
   "id": "09f79bfe",
   "metadata": {},
   "source": [
    "\n"
   ]
  },
  {
   "cell_type": "code",
   "execution_count": 2,
   "id": "067da28b",
   "metadata": {},
   "outputs": [
    {
     "data": {
      "text/plain": [
       "(1723, 14)"
      ]
     },
     "execution_count": 2,
     "metadata": {},
     "output_type": "execute_result"
    }
   ],
   "source": [
    "df.shape"
   ]
  },
  {
   "cell_type": "markdown",
   "id": "817a8238",
   "metadata": {},
   "source": [
    "có 14 thuộc tính và 1723 trường hợp"
   ]
  },
  {
   "cell_type": "code",
   "execution_count": 3,
   "id": "20072b5b",
   "metadata": {},
   "outputs": [
    {
     "name": "stdout",
     "output_type": "stream",
     "text": [
      "<class 'pandas.core.frame.DataFrame'>\n",
      "RangeIndex: 1723 entries, 0 to 1722\n",
      "Data columns (total 14 columns):\n",
      " #   Column               Non-Null Count  Dtype \n",
      "---  ------               --------------  ----- \n",
      " 0   month                1723 non-null   int64 \n",
      " 1   credit_amount        1723 non-null   int64 \n",
      " 2   credit_term          1723 non-null   int64 \n",
      " 3   age                  1723 non-null   int64 \n",
      " 4   sex                  1723 non-null   object\n",
      " 5   education            1723 non-null   object\n",
      " 6   product_type         1723 non-null   object\n",
      " 7   having_children_flg  1723 non-null   int64 \n",
      " 8   region               1723 non-null   int64 \n",
      " 9   income               1723 non-null   int64 \n",
      " 10  family_status        1723 non-null   object\n",
      " 11  phone_operator       1723 non-null   int64 \n",
      " 12  is_client            1723 non-null   int64 \n",
      " 13  bad_client_target    1723 non-null   int64 \n",
      "dtypes: int64(10), object(4)\n",
      "memory usage: 188.6+ KB\n"
     ]
    }
   ],
   "source": [
    "df.info()"
   ]
  },
  {
   "cell_type": "code",
   "execution_count": 4,
   "id": "a12593fe",
   "metadata": {
    "scrolled": true
   },
   "outputs": [
    {
     "data": {
      "text/plain": [
       "month                  0\n",
       "credit_amount          0\n",
       "credit_term            0\n",
       "age                    0\n",
       "sex                    0\n",
       "education              0\n",
       "product_type           0\n",
       "having_children_flg    0\n",
       "region                 0\n",
       "income                 0\n",
       "family_status          0\n",
       "phone_operator         0\n",
       "is_client              0\n",
       "bad_client_target      0\n",
       "dtype: int64"
      ]
     },
     "execution_count": 4,
     "metadata": {},
     "output_type": "execute_result"
    }
   ],
   "source": [
    "df.isnull().sum()"
   ]
  },
  {
   "cell_type": "markdown",
   "id": "e487269f",
   "metadata": {},
   "source": [
    "không có dữ liệu bị thiếu"
   ]
  },
  {
   "cell_type": "code",
   "execution_count": 5,
   "id": "af9fc9e6",
   "metadata": {},
   "outputs": [
    {
     "name": "stdout",
     "output_type": "stream",
     "text": [
      "Index(['month', 'credit_amount', 'credit_term', 'age', 'sex', 'education',\n",
      "       'product_type', 'having_children_flg', 'region', 'income',\n",
      "       'family_status', 'phone_operator', 'is_client', 'bad_client_target'],\n",
      "      dtype='object')\n"
     ]
    }
   ],
   "source": [
    "print(df.columns)"
   ]
  },
  {
   "cell_type": "code",
   "execution_count": 6,
   "id": "f380ff81",
   "metadata": {},
   "outputs": [
    {
     "name": "stdout",
     "output_type": "stream",
     "text": [
      "Có 4 thuộc tính: \n",
      "\n",
      " ['sex', 'education', 'product_type', 'family_status']\n"
     ]
    }
   ],
   "source": [
    "categorical = [var for var in df.columns if df[var].dtype == 'O']\n",
    "print('Có {} thuộc tính: \\n'.format(len(categorical)))\n",
    "print('',categorical)"
   ]
  },
  {
   "cell_type": "code",
   "execution_count": 7,
   "id": "13da00d2",
   "metadata": {},
   "outputs": [
    {
     "data": {
      "text/html": [
       "<div>\n",
       "<style scoped>\n",
       "    .dataframe tbody tr th:only-of-type {\n",
       "        vertical-align: middle;\n",
       "    }\n",
       "\n",
       "    .dataframe tbody tr th {\n",
       "        vertical-align: top;\n",
       "    }\n",
       "\n",
       "    .dataframe thead th {\n",
       "        text-align: right;\n",
       "    }\n",
       "</style>\n",
       "<table border=\"1\" class=\"dataframe\">\n",
       "  <thead>\n",
       "    <tr style=\"text-align: right;\">\n",
       "      <th></th>\n",
       "      <th>sex</th>\n",
       "      <th>education</th>\n",
       "      <th>product_type</th>\n",
       "      <th>family_status</th>\n",
       "    </tr>\n",
       "  </thead>\n",
       "  <tbody>\n",
       "    <tr>\n",
       "      <th>0</th>\n",
       "      <td>male</td>\n",
       "      <td>Secondary special education</td>\n",
       "      <td>Cell phones</td>\n",
       "      <td>Another</td>\n",
       "    </tr>\n",
       "    <tr>\n",
       "      <th>1</th>\n",
       "      <td>male</td>\n",
       "      <td>Secondary special education</td>\n",
       "      <td>Household appliances</td>\n",
       "      <td>Another</td>\n",
       "    </tr>\n",
       "    <tr>\n",
       "      <th>2</th>\n",
       "      <td>female</td>\n",
       "      <td>Secondary special education</td>\n",
       "      <td>Household appliances</td>\n",
       "      <td>Another</td>\n",
       "    </tr>\n",
       "    <tr>\n",
       "      <th>3</th>\n",
       "      <td>male</td>\n",
       "      <td>Secondary special education</td>\n",
       "      <td>Cell phones</td>\n",
       "      <td>Unmarried</td>\n",
       "    </tr>\n",
       "    <tr>\n",
       "      <th>4</th>\n",
       "      <td>female</td>\n",
       "      <td>Higher education</td>\n",
       "      <td>Cell phones</td>\n",
       "      <td>Married</td>\n",
       "    </tr>\n",
       "  </tbody>\n",
       "</table>\n",
       "</div>"
      ],
      "text/plain": [
       "      sex                    education          product_type family_status\n",
       "0    male  Secondary special education           Cell phones       Another\n",
       "1    male  Secondary special education  Household appliances       Another\n",
       "2  female  Secondary special education  Household appliances       Another\n",
       "3    male  Secondary special education           Cell phones     Unmarried\n",
       "4  female             Higher education           Cell phones       Married"
      ]
     },
     "execution_count": 7,
     "metadata": {},
     "output_type": "execute_result"
    }
   ],
   "source": [
    "df[categorical].head()"
   ]
  },
  {
   "cell_type": "code",
   "execution_count": 8,
   "id": "712b212e",
   "metadata": {},
   "outputs": [
    {
     "name": "stdout",
     "output_type": "stream",
     "text": [
      "male      931\n",
      "female    792\n",
      "Name: sex, dtype: int64\n",
      "Secondary special education       836\n",
      "Higher education                  585\n",
      "Secondary education               208\n",
      "Incomplete higher education        86\n",
      "Incomplete secondary education      5\n",
      "PhD degree                          3\n",
      "Name: education, dtype: int64\n",
      "Cell phones                      498\n",
      "Household appliances             471\n",
      "Computers                        178\n",
      "Furniture                        164\n",
      "Clothing                          88\n",
      "Cosmetics and beauty services     55\n",
      "Windows & Doors                   47\n",
      "Tourism                           37\n",
      "Jewelry                           36\n",
      "Construction Materials            30\n",
      "Medical services                  27\n",
      "Fitness                           25\n",
      "Auto                              21\n",
      "Boats                             11\n",
      "Training                          10\n",
      "Audio & Video                      9\n",
      "Sporting goods                     6\n",
      "Garden equipment                   3\n",
      "Repair Services                    3\n",
      "Childen's goods                    2\n",
      "Music                              1\n",
      "Fishing and hunting supplies       1\n",
      "Name: product_type, dtype: int64\n",
      "Another      1201\n",
      "Married       444\n",
      "Unmarried      78\n",
      "Name: family_status, dtype: int64\n"
     ]
    }
   ],
   "source": [
    "for var in categorical:\n",
    "    print(df[var].value_counts())"
   ]
  },
  {
   "cell_type": "code",
   "execution_count": 9,
   "id": "9aa85547",
   "metadata": {
    "scrolled": true
   },
   "outputs": [
    {
     "data": {
      "text/html": [
       "<div>\n",
       "<style scoped>\n",
       "    .dataframe tbody tr th:only-of-type {\n",
       "        vertical-align: middle;\n",
       "    }\n",
       "\n",
       "    .dataframe tbody tr th {\n",
       "        vertical-align: top;\n",
       "    }\n",
       "\n",
       "    .dataframe thead th {\n",
       "        text-align: right;\n",
       "    }\n",
       "</style>\n",
       "<table border=\"1\" class=\"dataframe\">\n",
       "  <thead>\n",
       "    <tr style=\"text-align: right;\">\n",
       "      <th></th>\n",
       "      <th>phone_operator</th>\n",
       "      <th>is_client</th>\n",
       "      <th>bad_client_target</th>\n",
       "      <th>sex_male</th>\n",
       "      <th>education_Incomplete higher education</th>\n",
       "      <th>education_Incomplete secondary education</th>\n",
       "      <th>education_PhD degree</th>\n",
       "      <th>education_Secondary education</th>\n",
       "      <th>education_Secondary special education</th>\n",
       "      <th>product_type_Auto</th>\n",
       "      <th>...</th>\n",
       "      <th>product_type_Jewelry</th>\n",
       "      <th>product_type_Medical services</th>\n",
       "      <th>product_type_Music</th>\n",
       "      <th>product_type_Repair Services</th>\n",
       "      <th>product_type_Sporting goods</th>\n",
       "      <th>product_type_Tourism</th>\n",
       "      <th>product_type_Training</th>\n",
       "      <th>product_type_Windows &amp; Doors</th>\n",
       "      <th>family_status_Married</th>\n",
       "      <th>family_status_Unmarried</th>\n",
       "    </tr>\n",
       "  </thead>\n",
       "  <tbody>\n",
       "    <tr>\n",
       "      <th>0</th>\n",
       "      <td>0</td>\n",
       "      <td>0</td>\n",
       "      <td>0</td>\n",
       "      <td>1</td>\n",
       "      <td>0</td>\n",
       "      <td>0</td>\n",
       "      <td>0</td>\n",
       "      <td>0</td>\n",
       "      <td>1</td>\n",
       "      <td>0</td>\n",
       "      <td>...</td>\n",
       "      <td>0</td>\n",
       "      <td>0</td>\n",
       "      <td>0</td>\n",
       "      <td>0</td>\n",
       "      <td>0</td>\n",
       "      <td>0</td>\n",
       "      <td>0</td>\n",
       "      <td>0</td>\n",
       "      <td>0</td>\n",
       "      <td>0</td>\n",
       "    </tr>\n",
       "    <tr>\n",
       "      <th>1</th>\n",
       "      <td>3</td>\n",
       "      <td>1</td>\n",
       "      <td>0</td>\n",
       "      <td>1</td>\n",
       "      <td>0</td>\n",
       "      <td>0</td>\n",
       "      <td>0</td>\n",
       "      <td>0</td>\n",
       "      <td>1</td>\n",
       "      <td>0</td>\n",
       "      <td>...</td>\n",
       "      <td>0</td>\n",
       "      <td>0</td>\n",
       "      <td>0</td>\n",
       "      <td>0</td>\n",
       "      <td>0</td>\n",
       "      <td>0</td>\n",
       "      <td>0</td>\n",
       "      <td>0</td>\n",
       "      <td>0</td>\n",
       "      <td>0</td>\n",
       "    </tr>\n",
       "    <tr>\n",
       "      <th>2</th>\n",
       "      <td>2</td>\n",
       "      <td>0</td>\n",
       "      <td>0</td>\n",
       "      <td>0</td>\n",
       "      <td>0</td>\n",
       "      <td>0</td>\n",
       "      <td>0</td>\n",
       "      <td>0</td>\n",
       "      <td>1</td>\n",
       "      <td>0</td>\n",
       "      <td>...</td>\n",
       "      <td>0</td>\n",
       "      <td>0</td>\n",
       "      <td>0</td>\n",
       "      <td>0</td>\n",
       "      <td>0</td>\n",
       "      <td>0</td>\n",
       "      <td>0</td>\n",
       "      <td>0</td>\n",
       "      <td>0</td>\n",
       "      <td>0</td>\n",
       "    </tr>\n",
       "    <tr>\n",
       "      <th>3</th>\n",
       "      <td>3</td>\n",
       "      <td>1</td>\n",
       "      <td>0</td>\n",
       "      <td>1</td>\n",
       "      <td>0</td>\n",
       "      <td>0</td>\n",
       "      <td>0</td>\n",
       "      <td>0</td>\n",
       "      <td>1</td>\n",
       "      <td>0</td>\n",
       "      <td>...</td>\n",
       "      <td>0</td>\n",
       "      <td>0</td>\n",
       "      <td>0</td>\n",
       "      <td>0</td>\n",
       "      <td>0</td>\n",
       "      <td>0</td>\n",
       "      <td>0</td>\n",
       "      <td>0</td>\n",
       "      <td>0</td>\n",
       "      <td>1</td>\n",
       "    </tr>\n",
       "    <tr>\n",
       "      <th>4</th>\n",
       "      <td>0</td>\n",
       "      <td>1</td>\n",
       "      <td>0</td>\n",
       "      <td>0</td>\n",
       "      <td>0</td>\n",
       "      <td>0</td>\n",
       "      <td>0</td>\n",
       "      <td>0</td>\n",
       "      <td>0</td>\n",
       "      <td>0</td>\n",
       "      <td>...</td>\n",
       "      <td>0</td>\n",
       "      <td>0</td>\n",
       "      <td>0</td>\n",
       "      <td>0</td>\n",
       "      <td>0</td>\n",
       "      <td>0</td>\n",
       "      <td>0</td>\n",
       "      <td>0</td>\n",
       "      <td>1</td>\n",
       "      <td>0</td>\n",
       "    </tr>\n",
       "  </tbody>\n",
       "</table>\n",
       "<p>5 rows × 32 columns</p>\n",
       "</div>"
      ],
      "text/plain": [
       "   phone_operator  is_client  bad_client_target  sex_male  \\\n",
       "0               0          0                  0         1   \n",
       "1               3          1                  0         1   \n",
       "2               2          0                  0         0   \n",
       "3               3          1                  0         1   \n",
       "4               0          1                  0         0   \n",
       "\n",
       "   education_Incomplete higher education  \\\n",
       "0                                      0   \n",
       "1                                      0   \n",
       "2                                      0   \n",
       "3                                      0   \n",
       "4                                      0   \n",
       "\n",
       "   education_Incomplete secondary education  education_PhD degree  \\\n",
       "0                                         0                     0   \n",
       "1                                         0                     0   \n",
       "2                                         0                     0   \n",
       "3                                         0                     0   \n",
       "4                                         0                     0   \n",
       "\n",
       "   education_Secondary education  education_Secondary special education  \\\n",
       "0                              0                                      1   \n",
       "1                              0                                      1   \n",
       "2                              0                                      1   \n",
       "3                              0                                      1   \n",
       "4                              0                                      0   \n",
       "\n",
       "   product_type_Auto  ...  product_type_Jewelry  \\\n",
       "0                  0  ...                     0   \n",
       "1                  0  ...                     0   \n",
       "2                  0  ...                     0   \n",
       "3                  0  ...                     0   \n",
       "4                  0  ...                     0   \n",
       "\n",
       "   product_type_Medical services  product_type_Music  \\\n",
       "0                              0                   0   \n",
       "1                              0                   0   \n",
       "2                              0                   0   \n",
       "3                              0                   0   \n",
       "4                              0                   0   \n",
       "\n",
       "   product_type_Repair Services  product_type_Sporting goods  \\\n",
       "0                             0                            0   \n",
       "1                             0                            0   \n",
       "2                             0                            0   \n",
       "3                             0                            0   \n",
       "4                             0                            0   \n",
       "\n",
       "   product_type_Tourism  product_type_Training  product_type_Windows & Doors  \\\n",
       "0                     0                      0                             0   \n",
       "1                     0                      0                             0   \n",
       "2                     0                      0                             0   \n",
       "3                     0                      0                             0   \n",
       "4                     0                      0                             0   \n",
       "\n",
       "   family_status_Married  family_status_Unmarried  \n",
       "0                      0                        0  \n",
       "1                      0                        0  \n",
       "2                      0                        0  \n",
       "3                      0                        1  \n",
       "4                      1                        0  \n",
       "\n",
       "[5 rows x 32 columns]"
      ]
     },
     "execution_count": 9,
     "metadata": {},
     "output_type": "execute_result"
    }
   ],
   "source": [
    "df = pd.get_dummies(df, columns = ['sex','education','product_type','family_status'], drop_first=True)\n",
    "df.drop(['month','credit_amount','credit_term','age','having_children_flg','region','income'],axis = 1).head()"
   ]
  },
  {
   "cell_type": "code",
   "execution_count": 10,
   "id": "68aecc8d",
   "metadata": {},
   "outputs": [
    {
     "name": "stdout",
     "output_type": "stream",
     "text": [
      "<class 'pandas.core.frame.DataFrame'>\n",
      "RangeIndex: 1723 entries, 0 to 1722\n",
      "Data columns (total 39 columns):\n",
      " #   Column                                      Non-Null Count  Dtype\n",
      "---  ------                                      --------------  -----\n",
      " 0   month                                       1723 non-null   int64\n",
      " 1   credit_amount                               1723 non-null   int64\n",
      " 2   credit_term                                 1723 non-null   int64\n",
      " 3   age                                         1723 non-null   int64\n",
      " 4   having_children_flg                         1723 non-null   int64\n",
      " 5   region                                      1723 non-null   int64\n",
      " 6   income                                      1723 non-null   int64\n",
      " 7   phone_operator                              1723 non-null   int64\n",
      " 8   is_client                                   1723 non-null   int64\n",
      " 9   bad_client_target                           1723 non-null   int64\n",
      " 10  sex_male                                    1723 non-null   uint8\n",
      " 11  education_Incomplete higher education       1723 non-null   uint8\n",
      " 12  education_Incomplete secondary education    1723 non-null   uint8\n",
      " 13  education_PhD degree                        1723 non-null   uint8\n",
      " 14  education_Secondary education               1723 non-null   uint8\n",
      " 15  education_Secondary special education       1723 non-null   uint8\n",
      " 16  product_type_Auto                           1723 non-null   uint8\n",
      " 17  product_type_Boats                          1723 non-null   uint8\n",
      " 18  product_type_Cell phones                    1723 non-null   uint8\n",
      " 19  product_type_Childen's goods                1723 non-null   uint8\n",
      " 20  product_type_Clothing                       1723 non-null   uint8\n",
      " 21  product_type_Computers                      1723 non-null   uint8\n",
      " 22  product_type_Construction Materials         1723 non-null   uint8\n",
      " 23  product_type_Cosmetics and beauty services  1723 non-null   uint8\n",
      " 24  product_type_Fishing and hunting supplies   1723 non-null   uint8\n",
      " 25  product_type_Fitness                        1723 non-null   uint8\n",
      " 26  product_type_Furniture                      1723 non-null   uint8\n",
      " 27  product_type_Garden equipment               1723 non-null   uint8\n",
      " 28  product_type_Household appliances           1723 non-null   uint8\n",
      " 29  product_type_Jewelry                        1723 non-null   uint8\n",
      " 30  product_type_Medical services               1723 non-null   uint8\n",
      " 31  product_type_Music                          1723 non-null   uint8\n",
      " 32  product_type_Repair Services                1723 non-null   uint8\n",
      " 33  product_type_Sporting goods                 1723 non-null   uint8\n",
      " 34  product_type_Tourism                        1723 non-null   uint8\n",
      " 35  product_type_Training                       1723 non-null   uint8\n",
      " 36  product_type_Windows & Doors                1723 non-null   uint8\n",
      " 37  family_status_Married                       1723 non-null   uint8\n",
      " 38  family_status_Unmarried                     1723 non-null   uint8\n",
      "dtypes: int64(10), uint8(29)\n",
      "memory usage: 183.5 KB\n"
     ]
    }
   ],
   "source": [
    "df.info()"
   ]
  },
  {
   "cell_type": "code",
   "execution_count": 11,
   "id": "74073768",
   "metadata": {},
   "outputs": [],
   "source": [
    "x = df.drop(['bad_client_target'],axis=1)\n",
    "y = df['bad_client_target']"
   ]
  },
  {
   "cell_type": "code",
   "execution_count": 12,
   "id": "24daf116",
   "metadata": {},
   "outputs": [],
   "source": [
    "import sklearn\n",
    "from sklearn.model_selection import train_test_split\n",
    "x_train, x_test, y_train, y_test = train_test_split(x, y, test_size = 0.3, random_state = 58)"
   ]
  },
  {
   "cell_type": "code",
   "execution_count": 13,
   "id": "bbcfb56d",
   "metadata": {},
   "outputs": [
    {
     "data": {
      "text/plain": [
       "((1206, 38), (517, 38))"
      ]
     },
     "execution_count": 13,
     "metadata": {},
     "output_type": "execute_result"
    }
   ],
   "source": [
    "x_train.shape, x_test.shape"
   ]
  },
  {
   "cell_type": "code",
   "execution_count": 14,
   "id": "a4453cc2",
   "metadata": {},
   "outputs": [
    {
     "data": {
      "text/html": [
       "<style>#sk-container-id-1 {color: black;background-color: white;}#sk-container-id-1 pre{padding: 0;}#sk-container-id-1 div.sk-toggleable {background-color: white;}#sk-container-id-1 label.sk-toggleable__label {cursor: pointer;display: block;width: 100%;margin-bottom: 0;padding: 0.3em;box-sizing: border-box;text-align: center;}#sk-container-id-1 label.sk-toggleable__label-arrow:before {content: \"▸\";float: left;margin-right: 0.25em;color: #696969;}#sk-container-id-1 label.sk-toggleable__label-arrow:hover:before {color: black;}#sk-container-id-1 div.sk-estimator:hover label.sk-toggleable__label-arrow:before {color: black;}#sk-container-id-1 div.sk-toggleable__content {max-height: 0;max-width: 0;overflow: hidden;text-align: left;background-color: #f0f8ff;}#sk-container-id-1 div.sk-toggleable__content pre {margin: 0.2em;color: black;border-radius: 0.25em;background-color: #f0f8ff;}#sk-container-id-1 input.sk-toggleable__control:checked~div.sk-toggleable__content {max-height: 200px;max-width: 100%;overflow: auto;}#sk-container-id-1 input.sk-toggleable__control:checked~label.sk-toggleable__label-arrow:before {content: \"▾\";}#sk-container-id-1 div.sk-estimator input.sk-toggleable__control:checked~label.sk-toggleable__label {background-color: #d4ebff;}#sk-container-id-1 div.sk-label input.sk-toggleable__control:checked~label.sk-toggleable__label {background-color: #d4ebff;}#sk-container-id-1 input.sk-hidden--visually {border: 0;clip: rect(1px 1px 1px 1px);clip: rect(1px, 1px, 1px, 1px);height: 1px;margin: -1px;overflow: hidden;padding: 0;position: absolute;width: 1px;}#sk-container-id-1 div.sk-estimator {font-family: monospace;background-color: #f0f8ff;border: 1px dotted black;border-radius: 0.25em;box-sizing: border-box;margin-bottom: 0.5em;}#sk-container-id-1 div.sk-estimator:hover {background-color: #d4ebff;}#sk-container-id-1 div.sk-parallel-item::after {content: \"\";width: 100%;border-bottom: 1px solid gray;flex-grow: 1;}#sk-container-id-1 div.sk-label:hover label.sk-toggleable__label {background-color: #d4ebff;}#sk-container-id-1 div.sk-serial::before {content: \"\";position: absolute;border-left: 1px solid gray;box-sizing: border-box;top: 0;bottom: 0;left: 50%;z-index: 0;}#sk-container-id-1 div.sk-serial {display: flex;flex-direction: column;align-items: center;background-color: white;padding-right: 0.2em;padding-left: 0.2em;position: relative;}#sk-container-id-1 div.sk-item {position: relative;z-index: 1;}#sk-container-id-1 div.sk-parallel {display: flex;align-items: stretch;justify-content: center;background-color: white;position: relative;}#sk-container-id-1 div.sk-item::before, #sk-container-id-1 div.sk-parallel-item::before {content: \"\";position: absolute;border-left: 1px solid gray;box-sizing: border-box;top: 0;bottom: 0;left: 50%;z-index: -1;}#sk-container-id-1 div.sk-parallel-item {display: flex;flex-direction: column;z-index: 1;position: relative;background-color: white;}#sk-container-id-1 div.sk-parallel-item:first-child::after {align-self: flex-end;width: 50%;}#sk-container-id-1 div.sk-parallel-item:last-child::after {align-self: flex-start;width: 50%;}#sk-container-id-1 div.sk-parallel-item:only-child::after {width: 0;}#sk-container-id-1 div.sk-dashed-wrapped {border: 1px dashed gray;margin: 0 0.4em 0.5em 0.4em;box-sizing: border-box;padding-bottom: 0.4em;background-color: white;}#sk-container-id-1 div.sk-label label {font-family: monospace;font-weight: bold;display: inline-block;line-height: 1.2em;}#sk-container-id-1 div.sk-label-container {text-align: center;}#sk-container-id-1 div.sk-container {/* jupyter's `normalize.less` sets `[hidden] { display: none; }` but bootstrap.min.css set `[hidden] { display: none !important; }` so we also need the `!important` here to be able to override the default hidden behavior on the sphinx rendered scikit-learn.org. See: https://github.com/scikit-learn/scikit-learn/issues/21755 */display: inline-block !important;position: relative;}#sk-container-id-1 div.sk-text-repr-fallback {display: none;}</style><div id=\"sk-container-id-1\" class=\"sk-top-container\"><div class=\"sk-text-repr-fallback\"><pre>GaussianNB()</pre><b>In a Jupyter environment, please rerun this cell to show the HTML representation or trust the notebook. <br />On GitHub, the HTML representation is unable to render, please try loading this page with nbviewer.org.</b></div><div class=\"sk-container\" hidden><div class=\"sk-item\"><div class=\"sk-estimator sk-toggleable\"><input class=\"sk-toggleable__control sk-hidden--visually\" id=\"sk-estimator-id-1\" type=\"checkbox\" checked><label for=\"sk-estimator-id-1\" class=\"sk-toggleable__label sk-toggleable__label-arrow\">GaussianNB</label><div class=\"sk-toggleable__content\"><pre>GaussianNB()</pre></div></div></div></div></div>"
      ],
      "text/plain": [
       "GaussianNB()"
      ]
     },
     "execution_count": 14,
     "metadata": {},
     "output_type": "execute_result"
    }
   ],
   "source": [
    "from sklearn.naive_bayes import GaussianNB\n",
    "nb = GaussianNB()\n",
    "nb.fit(x_train, y_train)"
   ]
  },
  {
   "cell_type": "code",
   "execution_count": 15,
   "id": "ff6b68e9",
   "metadata": {},
   "outputs": [
    {
     "data": {
      "text/plain": [
       "array([0, 0, 0, 0, 0, 0, 0, 0, 0, 0, 0, 0, 0, 0, 0, 0, 0, 0, 0, 0, 0, 0,\n",
       "       0, 0, 0, 0, 0, 0, 0, 0, 0, 0, 0, 0, 0, 0, 0, 0, 0, 0, 0, 0, 0, 0,\n",
       "       0, 0, 0, 0, 0, 0, 0, 0, 0, 0, 0, 0, 0, 0, 0, 0, 0, 0, 0, 0, 0, 0,\n",
       "       0, 0, 0, 0, 0, 0, 0, 0, 0, 0, 0, 0, 0, 0, 0, 0, 0, 0, 0, 0, 0, 0,\n",
       "       0, 0, 0, 0, 0, 0, 0, 0, 0, 0, 0, 0, 0, 0, 0, 0, 0, 0, 0, 0, 0, 0,\n",
       "       0, 0, 0, 0, 0, 0, 0, 0, 0, 0, 0, 0, 0, 0, 0, 0, 0, 0, 0, 0, 0, 0,\n",
       "       0, 0, 0, 0, 0, 0, 0, 0, 0, 0, 0, 0, 0, 0, 0, 0, 0, 0, 0, 0, 0, 0,\n",
       "       0, 0, 0, 0, 0, 0, 0, 0, 0, 0, 0, 0, 0, 0, 0, 0, 0, 0, 0, 0, 0, 0,\n",
       "       0, 0, 0, 0, 0, 0, 0, 0, 0, 0, 0, 0, 0, 0, 0, 0, 0, 0, 0, 0, 0, 0,\n",
       "       0, 0, 0, 0, 0, 0, 0, 0, 0, 0, 0, 0, 0, 0, 0, 0, 0, 0, 0, 0, 0, 0,\n",
       "       0, 0, 0, 0, 0, 0, 0, 0, 0, 0, 0, 0, 0, 0, 0, 0, 0, 0, 0, 0, 0, 0,\n",
       "       0, 0, 0, 0, 0, 0, 0, 0, 0, 0, 0, 0, 0, 0, 0, 0, 0, 0, 0, 0, 0, 0,\n",
       "       0, 0, 0, 0, 0, 0, 0, 0, 0, 0, 0, 0, 0, 0, 0, 0, 0, 0, 0, 0, 0, 0,\n",
       "       0, 0, 0, 0, 0, 0, 0, 0, 0, 0, 0, 0, 0, 0, 0, 0, 0, 0, 0, 0, 0, 0,\n",
       "       0, 0, 0, 0, 0, 0, 0, 0, 0, 0, 0, 0, 0, 0, 0, 0, 0, 0, 0, 0, 0, 0,\n",
       "       0, 0, 0, 0, 0, 0, 0, 0, 0, 0, 0, 0, 0, 0, 0, 0, 0, 0, 0, 0, 0, 0,\n",
       "       0, 0, 0, 0, 0, 0, 0, 0, 0, 0, 0, 0, 0, 0, 0, 0, 0, 0, 0, 0, 0, 0,\n",
       "       0, 0, 0, 0, 0, 0, 0, 0, 0, 0, 0, 0, 0, 0, 0, 0, 0, 0, 0, 0, 0, 0,\n",
       "       0, 0, 0, 0, 0, 0, 0, 0, 0, 0, 0, 0, 0, 0, 0, 0, 0, 0, 0, 0, 0, 0,\n",
       "       0, 0, 0, 0, 0, 0, 0, 0, 0, 0, 0, 0, 0, 0, 0, 0, 0, 0, 0, 0, 0, 0,\n",
       "       0, 0, 0, 0, 0, 0, 0, 0, 0, 0, 0, 0, 0, 0, 0, 0, 0, 0, 0, 0, 0, 0,\n",
       "       0, 0, 0, 0, 0, 0, 0, 0, 0, 0, 0, 0, 0, 0, 0, 0, 0, 0, 0, 0, 0, 0,\n",
       "       0, 0, 0, 0, 0, 0, 0, 0, 0, 0, 0, 0, 0, 0, 0, 0, 0, 0, 0, 0, 0, 0,\n",
       "       0, 0, 0, 0, 0, 0, 0, 0, 0, 0, 0], dtype=int64)"
      ]
     },
     "execution_count": 15,
     "metadata": {},
     "output_type": "execute_result"
    }
   ],
   "source": [
    "y_pred = nb.predict(x_test)\n",
    "y_pred"
   ]
  },
  {
   "cell_type": "code",
   "execution_count": 16,
   "id": "708da8f8",
   "metadata": {},
   "outputs": [
    {
     "data": {
      "text/plain": [
       "0.8839458413926499"
      ]
     },
     "execution_count": 16,
     "metadata": {},
     "output_type": "execute_result"
    }
   ],
   "source": [
    "y_pred = nb.predict(x_test)\n",
    "from sklearn.metrics import accuracy_score\n",
    "accuracy_score(y_test, y_pred, normalize = True)"
   ]
  },
  {
   "cell_type": "code",
   "execution_count": 17,
   "id": "37cb288d",
   "metadata": {},
   "outputs": [],
   "source": [
    "import matplotlib.pyplot as plt\n",
    "\n",
    "def plot_histogram_and_boxplot(column):\n",
    "    # Histogram\n",
    "    fig, axs = plt.subplots(1, 2, figsize=(18, 6))\n",
    "\n",
    "    n, bins, patches = axs[0].hist(column, bins='auto', color='#0504aa', alpha=0.7, rwidth=0.85)\n",
    "\n",
    "    for i in range(len(patches)):\n",
    "        height = int(patches[i].get_height())\n",
    "        if height > 0:\n",
    "            axs[0].text(patches[i].get_x() + patches[i].get_width() / 2, height, str(height), ha='center', va='bottom')\n",
    "\n",
    "    spines = ['top', 'right']\n",
    "    for s in spines:\n",
    "        axs[0].spines[s].set_visible(False)\n",
    "\n",
    "    axs[0].tick_params(left=False, bottom=False)\n",
    "\n",
    "    axs[0].set_title(f'Histogram of {column.name}', fontweight='bold', size=14, loc='left')\n",
    "    axs[0].set_xlabel('Spending ($)', size=12)\n",
    "    axs[0].set_ylabel('Customer', size=12)\n",
    "\n",
    "    # Box plot\n",
    "    axs[1].boxplot(column)\n",
    "\n",
    "    for i, box in enumerate(axs[1].artists):\n",
    "        axs[1].text(box.get_x() + box.get_width() / 2, column.iloc[i],\n",
    "                    str(int(column.iloc[i])), ha='center', va='bottom')\n",
    "\n",
    "    spines = ['top', 'right']\n",
    "    for s in spines:\n",
    "        axs[1].spines[s].set_visible(False)\n",
    "\n",
    "    axs[1].tick_params(left=False, bottom=False)\n",
    "\n",
    "    axs[1].set_title(f'Box Plot of {column.name}', fontweight='bold', size=14, loc='left')\n",
    "\n",
    "    # Display your name at the bottom-left of the entire graph.\n",
    "    fig.text(0.125, 0.01, \"Phan Lac An - 20206109\", style='italic')\n",
    "\n",
    "    plt.show()"
   ]
  },
  {
   "cell_type": "code",
   "execution_count": 18,
   "id": "2f3e6cbe",
   "metadata": {},
   "outputs": [
    {
     "name": "stdout",
     "output_type": "stream",
     "text": [
      "Độ chính xác mô hình: 0.8839\n"
     ]
    }
   ],
   "source": [
    "from sklearn.metrics import accuracy_score\n",
    "\n",
    "print('Độ chính xác mô hình: {0:0.4f}'.format(accuracy_score(y_test, y_pred, normalize=True)))"
   ]
  },
  {
   "cell_type": "code",
   "execution_count": 19,
   "id": "32e8b252",
   "metadata": {},
   "outputs": [
    {
     "data": {
      "text/plain": [
       "array([0, 0, 0, ..., 0, 0, 0], dtype=int64)"
      ]
     },
     "execution_count": 19,
     "metadata": {},
     "output_type": "execute_result"
    }
   ],
   "source": [
    "y_pred_train = nb.predict(x_train)\n",
    "\n",
    "y_pred_train\n"
   ]
  },
  {
   "cell_type": "code",
   "execution_count": 20,
   "id": "77918770",
   "metadata": {},
   "outputs": [
    {
     "name": "stdout",
     "output_type": "stream",
     "text": [
      "Độ chính xác: 0.8872\n"
     ]
    }
   ],
   "source": [
    "print('Độ chính xác: {0:0.4f}'. format(accuracy_score(y_train, y_pred_train)))"
   ]
  },
  {
   "cell_type": "code",
   "execution_count": 21,
   "id": "7ece91af",
   "metadata": {},
   "outputs": [
    {
     "name": "stdout",
     "output_type": "stream",
     "text": [
      "Training set score: 0.8872\n",
      "Test set score: 0.8839\n"
     ]
    }
   ],
   "source": [
    "print('Training set score: {:.4f}'.format(nb.score(x_train, y_train)))\n",
    "\n",
    "print('Test set score: {:.4f}'.format(nb.score(x_test, y_test)))"
   ]
  },
  {
   "cell_type": "code",
   "execution_count": 22,
   "id": "d7787736",
   "metadata": {},
   "outputs": [
    {
     "name": "stdout",
     "output_type": "stream",
     "text": [
      "Confusion matrix\n",
      "\n",
      " [[457   0]\n",
      " [ 60   0]]\n",
      "\n",
      "True Positives(TP) =  457\n",
      "\n",
      "True Negatives(TN) =  0\n",
      "\n",
      "False Positives(FP) =  0\n",
      "\n",
      "False Negatives(FN) =  60\n"
     ]
    }
   ],
   "source": [
    "from sklearn.metrics import confusion_matrix\n",
    "\n",
    "cm = confusion_matrix(y_test, y_pred)\n",
    "\n",
    "print('Confusion matrix\\n\\n', cm)\n",
    "\n",
    "print('\\nTrue Positives(TP) = ', cm[0,0])\n",
    "\n",
    "print('\\nTrue Negatives(TN) = ', cm[1,1])\n",
    "\n",
    "print('\\nFalse Positives(FP) = ', cm[0,1])\n",
    "\n",
    "print('\\nFalse Negatives(FN) = ', cm[1,0])"
   ]
  },
  {
   "cell_type": "code",
   "execution_count": 23,
   "id": "fdc41855",
   "metadata": {},
   "outputs": [
    {
     "data": {
      "text/plain": [
       "<Axes: >"
      ]
     },
     "execution_count": 23,
     "metadata": {},
     "output_type": "execute_result"
    },
    {
     "data": {
      "image/png": "[encoded data removed]",
      "text/plain": [
       "<Figure size 640x480 with 2 Axes>"
      ]
     },
     "metadata": {},
     "output_type": "display_data"
    }
   ],
   "source": [
    "import seaborn as sns\n",
    "cm_matrix = pd.DataFrame(data=cm, columns=['Actual Positive:1', 'Actual Negative:0'], \n",
    "                                 index=['Predict Positive:1', 'Predict Negative:0'])\n",
    "\n",
    "sns.heatmap(cm_matrix, annot=True, fmt='d', cmap='YlGnBu')"
   ]
  },
  {
   "cell_type": "code",
   "execution_count": 24,
   "id": "706df25c",
   "metadata": {},
   "outputs": [
    {
     "data": {
      "text/plain": [
       "array([1.51928400e-01, 1.43216839e-01, 7.02118237e-06, 4.55663502e-01,\n",
       "       2.15547047e-01, 4.57071829e-02, 2.17382732e-01, 2.46071895e-01,\n",
       "       3.10720122e-01, 3.08900706e-01])"
      ]
     },
     "execution_count": 24,
     "metadata": {},
     "output_type": "execute_result"
    }
   ],
   "source": [
    "nb.predict_proba(x_test)[0:10, 1]"
   ]
  },
  {
   "cell_type": "code",
   "execution_count": 25,
   "id": "7af3d06b",
   "metadata": {},
   "outputs": [],
   "source": [
    "y_pred1 = nb.predict_proba(x_test)[:, 1]"
   ]
  },
  {
   "cell_type": "code",
   "execution_count": 26,
   "id": "4a5f7fb1",
   "metadata": {},
   "outputs": [
    {
     "data": {
      "text/plain": [
       "Text(0, 0.5, 'Tần số')"
      ]
     },
     "execution_count": 26,
     "metadata": {},
     "output_type": "execute_result"
    },
    {
     "data": {
      "image/png": "[encoded data removed]",
      "text/plain": [
       "<Figure size 640x480 with 1 Axes>"
      ]
     },
     "metadata": {},
     "output_type": "display_data"
    }
   ],
   "source": [
    "plt.rcParams['font.size'] = 8\n",
    "\n",
    "\n",
    "\n",
    "plt.hist(y_pred1, bins = 15)\n",
    "\n",
    "\n",
    "\n",
    "plt.title('Biểu đồ xác suất dự đoán về tiềm năng khách hàng')\n",
    "\n",
    "\n",
    "\n",
    "plt.xlim(0,0.5)\n",
    "\n",
    "\n",
    "# set the title\n",
    "plt.xlabel('Xác suất dự đoán về tiềm năng khách hàng')\n",
    "plt.ylabel('Tần số')"
   ]
  },
  {
   "cell_type": "code",
   "execution_count": 27,
   "id": "55b8e86d",
   "metadata": {},
   "outputs": [
    {
     "name": "stderr",
     "output_type": "stream",
     "text": [
      "C:\\Users\\lephu\\anaconda3\\envs\\doan1\\Lib\\site-packages\\sklearn\\metrics\\_ranking.py:1029: UndefinedMetricWarning: No positive samples in y_true, true positive value should be meaningless\n",
      "  warnings.warn(\n"
     ]
    },
    {
     "data": {
      "image/png": "[encoded data removed]",
      "text/plain": [
       "<Figure size 600x400 with 1 Axes>"
      ]
     },
     "metadata": {},
     "output_type": "display_data"
    }
   ],
   "source": [
    "from sklearn.metrics import roc_curve\n",
    "\n",
    "fpr, tpr, thresholds = roc_curve(y_test, y_pred, pos_label = '1')\n",
    "\n",
    "plt.figure(figsize=(6,4))\n",
    "\n",
    "plt.plot(fpr, tpr, linewidth=2)\n",
    "\n",
    "plt.plot([0,0.5], [0,0.5], 'k--' )\n",
    "\n",
    "plt.rcParams['font.size'] = 8\n",
    "\n",
    "plt.title('ROC curve for Gaussian Naive Bayes Classifier for Predicting Salaries')\n",
    "\n",
    "plt.xlabel('False Positive Rate (1 - Specificity)')\n",
    "\n",
    "plt.ylabel('True Positive Rate (Sensitivity)')\n",
    "\n",
    "plt.show()"
   ]
  },
  {
   "cell_type": "code",
   "execution_count": 28,
   "id": "7b8efc54",
   "metadata": {},
   "outputs": [
    {
     "name": "stdout",
     "output_type": "stream",
     "text": [
      "ROC AUC : 0.6611\n"
     ]
    }
   ],
   "source": [
    "from sklearn.metrics import roc_auc_score\n",
    "\n",
    "ROC_AUC = roc_auc_score(y_test, y_pred1)\n",
    "\n",
    "print('ROC AUC : {:.4f}'.format(ROC_AUC))"
   ]
  },
  {
   "cell_type": "code",
   "execution_count": null,
   "id": "535d8568",
   "metadata": {},
   "outputs": [],
   "source": []
  }
 ],
 "metadata": {
  "kernelspec": {
   "display_name": "Python 3 (ipykernel)",
   "language": "python",
   "name": "python3"
  },
  "language_info": {
   "codemirror_mode": {
    "name": "ipython",
    "version": 3
   },
   "file_extension": ".py",
   "mimetype": "text/x-python",
   "name": "python",
   "nbconvert_exporter": "python",
   "pygments_lexer": "ipython3",
   "version": "3.11.4"
  }
 },
 "nbformat": 4,
 "nbformat_minor": 5
}

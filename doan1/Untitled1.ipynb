{
 "cells": [
  {
   "cell_type": "markdown",
   "id": "4370f2c0",
   "metadata": {},
   "source": [
    "<a class=\"anchor\" id=\"0\"></a>\n",
    "# **Ứng dụng Gaussian Naive Bayes trong bài toán Potential Customers**\n"
   ]
  },
  {
   "cell_type": "markdown",
   "id": "d8792258",
   "metadata": {},
   "source": [
    "# **1. Import các thư viện** <a class=\"anchor\" id=\"5\"></a>\n",
    "\n",
    "--------------------------------------------------------------------------------"
   ]
  },
  {
   "cell_type": "code",
   "execution_count": 1,
   "id": "864f0c98",
   "metadata": {},
   "outputs": [],
   "source": [
    "import numpy as np\n",
    "import pandas as pd \n",
    "import matplotlib.pyplot as plt \n",
    "import seaborn as sns "
   ]
  },
  {
   "cell_type": "code",
   "execution_count": 2,
   "id": "99476439",
   "metadata": {},
   "outputs": [],
   "source": [
    "import warnings\n",
    "\n",
    "warnings.filterwarnings('ignore')"
   ]
  },
  {
   "cell_type": "markdown",
   "id": "fee0a640",
   "metadata": {},
   "source": [
    "# **2. Import dataset** <a class=\"anchor\" id=\"6\"></a>\n",
    "-----"
   ]
  },
  {
   "cell_type": "code",
   "execution_count": 3,
   "id": "c4e1a74a",
   "metadata": {
    "scrolled": false
   },
   "outputs": [],
   "source": [
    "import pandas as pd\n",
    "df = pd.read_csv(\"C:\\\\Users\\\\lephu\\\\doan1\\\\clients.csv\")"
   ]
  },
  {
   "cell_type": "markdown",
   "id": "b1ac9e74",
   "metadata": {},
   "source": [
    "# **3. Exploratory data analysis** <a class=\"anchor\" id=\"7\"></a>\n",
    "-----"
   ]
  },
  {
   "cell_type": "code",
   "execution_count": 4,
   "id": "9f1a73a1",
   "metadata": {},
   "outputs": [
    {
     "data": {
      "text/plain": [
       "(1723, 14)"
      ]
     },
     "execution_count": 4,
     "metadata": {},
     "output_type": "execute_result"
    }
   ],
   "source": [
    "df.shape"
   ]
  },
  {
   "cell_type": "markdown",
   "id": "ad108571",
   "metadata": {},
   "source": [
    "Có 14 thuộc tính và 1723 trường hợp"
   ]
  },
  {
   "cell_type": "markdown",
   "id": "51bf472f",
   "metadata": {},
   "source": [
    "### Kiểm tra 5 dòng đầu của dataset\n",
    "------"
   ]
  },
  {
   "cell_type": "code",
   "execution_count": 5,
   "id": "ddd82033",
   "metadata": {
    "scrolled": true
   },
   "outputs": [
    {
     "data": {
      "text/html": [
       "<div>\n",
       "<style scoped>\n",
       "    .dataframe tbody tr th:only-of-type {\n",
       "        vertical-align: middle;\n",
       "    }\n",
       "\n",
       "    .dataframe tbody tr th {\n",
       "        vertical-align: top;\n",
       "    }\n",
       "\n",
       "    .dataframe thead th {\n",
       "        text-align: right;\n",
       "    }\n",
       "</style>\n",
       "<table border=\"1\" class=\"dataframe\">\n",
       "  <thead>\n",
       "    <tr style=\"text-align: right;\">\n",
       "      <th></th>\n",
       "      <th>month</th>\n",
       "      <th>credit_amount</th>\n",
       "      <th>credit_term</th>\n",
       "      <th>age</th>\n",
       "      <th>sex</th>\n",
       "      <th>education</th>\n",
       "      <th>product_type</th>\n",
       "      <th>having_children_flg</th>\n",
       "      <th>region</th>\n",
       "      <th>income</th>\n",
       "      <th>family_status</th>\n",
       "      <th>phone_operator</th>\n",
       "      <th>is_client</th>\n",
       "      <th>bad_client_target</th>\n",
       "    </tr>\n",
       "  </thead>\n",
       "  <tbody>\n",
       "    <tr>\n",
       "      <th>0</th>\n",
       "      <td>1</td>\n",
       "      <td>7000</td>\n",
       "      <td>12</td>\n",
       "      <td>39</td>\n",
       "      <td>male</td>\n",
       "      <td>Secondary special education</td>\n",
       "      <td>Cell phones</td>\n",
       "      <td>0</td>\n",
       "      <td>2</td>\n",
       "      <td>21000</td>\n",
       "      <td>Another</td>\n",
       "      <td>0</td>\n",
       "      <td>0</td>\n",
       "      <td>0</td>\n",
       "    </tr>\n",
       "    <tr>\n",
       "      <th>1</th>\n",
       "      <td>1</td>\n",
       "      <td>19000</td>\n",
       "      <td>6</td>\n",
       "      <td>20</td>\n",
       "      <td>male</td>\n",
       "      <td>Secondary special education</td>\n",
       "      <td>Household appliances</td>\n",
       "      <td>1</td>\n",
       "      <td>2</td>\n",
       "      <td>17000</td>\n",
       "      <td>Another</td>\n",
       "      <td>3</td>\n",
       "      <td>1</td>\n",
       "      <td>0</td>\n",
       "    </tr>\n",
       "    <tr>\n",
       "      <th>2</th>\n",
       "      <td>1</td>\n",
       "      <td>29000</td>\n",
       "      <td>12</td>\n",
       "      <td>23</td>\n",
       "      <td>female</td>\n",
       "      <td>Secondary special education</td>\n",
       "      <td>Household appliances</td>\n",
       "      <td>0</td>\n",
       "      <td>2</td>\n",
       "      <td>31000</td>\n",
       "      <td>Another</td>\n",
       "      <td>2</td>\n",
       "      <td>0</td>\n",
       "      <td>0</td>\n",
       "    </tr>\n",
       "    <tr>\n",
       "      <th>3</th>\n",
       "      <td>1</td>\n",
       "      <td>10000</td>\n",
       "      <td>12</td>\n",
       "      <td>30</td>\n",
       "      <td>male</td>\n",
       "      <td>Secondary special education</td>\n",
       "      <td>Cell phones</td>\n",
       "      <td>1</td>\n",
       "      <td>2</td>\n",
       "      <td>31000</td>\n",
       "      <td>Unmarried</td>\n",
       "      <td>3</td>\n",
       "      <td>1</td>\n",
       "      <td>0</td>\n",
       "    </tr>\n",
       "    <tr>\n",
       "      <th>4</th>\n",
       "      <td>1</td>\n",
       "      <td>14500</td>\n",
       "      <td>12</td>\n",
       "      <td>25</td>\n",
       "      <td>female</td>\n",
       "      <td>Higher education</td>\n",
       "      <td>Cell phones</td>\n",
       "      <td>0</td>\n",
       "      <td>2</td>\n",
       "      <td>26000</td>\n",
       "      <td>Married</td>\n",
       "      <td>0</td>\n",
       "      <td>1</td>\n",
       "      <td>0</td>\n",
       "    </tr>\n",
       "  </tbody>\n",
       "</table>\n",
       "</div>"
      ],
      "text/plain": [
       "   month  credit_amount  credit_term  age     sex  \\\n",
       "0      1           7000           12   39    male   \n",
       "1      1          19000            6   20    male   \n",
       "2      1          29000           12   23  female   \n",
       "3      1          10000           12   30    male   \n",
       "4      1          14500           12   25  female   \n",
       "\n",
       "                     education          product_type  having_children_flg  \\\n",
       "0  Secondary special education           Cell phones                    0   \n",
       "1  Secondary special education  Household appliances                    1   \n",
       "2  Secondary special education  Household appliances                    0   \n",
       "3  Secondary special education           Cell phones                    1   \n",
       "4             Higher education           Cell phones                    0   \n",
       "\n",
       "   region  income family_status  phone_operator  is_client  bad_client_target  \n",
       "0       2   21000       Another               0          0                  0  \n",
       "1       2   17000       Another               3          1                  0  \n",
       "2       2   31000       Another               2          0                  0  \n",
       "3       2   31000     Unmarried               3          1                  0  \n",
       "4       2   26000       Married               0          1                  0  "
      ]
     },
     "execution_count": 5,
     "metadata": {},
     "output_type": "execute_result"
    }
   ],
   "source": [
    "df.head()"
   ]
  },
  {
   "cell_type": "markdown",
   "id": "86ae902d",
   "metadata": {},
   "source": [
    "### View summary of dataset\n",
    "----"
   ]
  },
  {
   "cell_type": "code",
   "execution_count": 6,
   "id": "3e1df285",
   "metadata": {},
   "outputs": [
    {
     "name": "stdout",
     "output_type": "stream",
     "text": [
      "<class 'pandas.core.frame.DataFrame'>\n",
      "RangeIndex: 1723 entries, 0 to 1722\n",
      "Data columns (total 14 columns):\n",
      " #   Column               Non-Null Count  Dtype \n",
      "---  ------               --------------  ----- \n",
      " 0   month                1723 non-null   int64 \n",
      " 1   credit_amount        1723 non-null   int64 \n",
      " 2   credit_term          1723 non-null   int64 \n",
      " 3   age                  1723 non-null   int64 \n",
      " 4   sex                  1723 non-null   object\n",
      " 5   education            1723 non-null   object\n",
      " 6   product_type         1723 non-null   object\n",
      " 7   having_children_flg  1723 non-null   int64 \n",
      " 8   region               1723 non-null   int64 \n",
      " 9   income               1723 non-null   int64 \n",
      " 10  family_status        1723 non-null   object\n",
      " 11  phone_operator       1723 non-null   int64 \n",
      " 12  is_client            1723 non-null   int64 \n",
      " 13  bad_client_target    1723 non-null   int64 \n",
      "dtypes: int64(10), object(4)\n",
      "memory usage: 188.6+ KB\n"
     ]
    }
   ],
   "source": [
    "df.info()"
   ]
  },
  {
   "cell_type": "markdown",
   "id": "160cf895",
   "metadata": {},
   "source": [
    "Dữ liệu không bị thiếu. Chúng ta tiếp  tục kiểm tra chi tiết ở bên dưới."
   ]
  },
  {
   "cell_type": "markdown",
   "id": "d90c5240",
   "metadata": {},
   "source": [
    "### Types of variables\n",
    "\n",
    "Bộ dữ liệu gồm 2 loại int64 và object. Phân tích riêng 2 loại này.\n"
   ]
  },
  {
   "cell_type": "markdown",
   "id": "cc2cf58c",
   "metadata": {},
   "source": [
    "### Explore categorical variablesm\n",
    "-----"
   ]
  },
  {
   "cell_type": "code",
   "execution_count": 7,
   "id": "b44c79d0",
   "metadata": {
    "scrolled": true
   },
   "outputs": [
    {
     "name": "stdout",
     "output_type": "stream",
     "text": [
      "Có 4 thuộc tính: \n",
      "\n",
      " ['sex', 'education', 'product_type', 'family_status']\n"
     ]
    }
   ],
   "source": [
    "categorical = [var for var in df.columns if df[var].dtype == 'O']\n",
    "print('Có {} thuộc tính: \\n'.format(len(categorical)))\n",
    "print('',categorical)"
   ]
  },
  {
   "cell_type": "code",
   "execution_count": 8,
   "id": "42df458e",
   "metadata": {},
   "outputs": [
    {
     "data": {
      "text/html": [
       "<div>\n",
       "<style scoped>\n",
       "    .dataframe tbody tr th:only-of-type {\n",
       "        vertical-align: middle;\n",
       "    }\n",
       "\n",
       "    .dataframe tbody tr th {\n",
       "        vertical-align: top;\n",
       "    }\n",
       "\n",
       "    .dataframe thead th {\n",
       "        text-align: right;\n",
       "    }\n",
       "</style>\n",
       "<table border=\"1\" class=\"dataframe\">\n",
       "  <thead>\n",
       "    <tr style=\"text-align: right;\">\n",
       "      <th></th>\n",
       "      <th>sex</th>\n",
       "      <th>education</th>\n",
       "      <th>product_type</th>\n",
       "      <th>family_status</th>\n",
       "    </tr>\n",
       "  </thead>\n",
       "  <tbody>\n",
       "    <tr>\n",
       "      <th>0</th>\n",
       "      <td>male</td>\n",
       "      <td>Secondary special education</td>\n",
       "      <td>Cell phones</td>\n",
       "      <td>Another</td>\n",
       "    </tr>\n",
       "    <tr>\n",
       "      <th>1</th>\n",
       "      <td>male</td>\n",
       "      <td>Secondary special education</td>\n",
       "      <td>Household appliances</td>\n",
       "      <td>Another</td>\n",
       "    </tr>\n",
       "    <tr>\n",
       "      <th>2</th>\n",
       "      <td>female</td>\n",
       "      <td>Secondary special education</td>\n",
       "      <td>Household appliances</td>\n",
       "      <td>Another</td>\n",
       "    </tr>\n",
       "    <tr>\n",
       "      <th>3</th>\n",
       "      <td>male</td>\n",
       "      <td>Secondary special education</td>\n",
       "      <td>Cell phones</td>\n",
       "      <td>Unmarried</td>\n",
       "    </tr>\n",
       "    <tr>\n",
       "      <th>4</th>\n",
       "      <td>female</td>\n",
       "      <td>Higher education</td>\n",
       "      <td>Cell phones</td>\n",
       "      <td>Married</td>\n",
       "    </tr>\n",
       "  </tbody>\n",
       "</table>\n",
       "</div>"
      ],
      "text/plain": [
       "      sex                    education          product_type family_status\n",
       "0    male  Secondary special education           Cell phones       Another\n",
       "1    male  Secondary special education  Household appliances       Another\n",
       "2  female  Secondary special education  Household appliances       Another\n",
       "3    male  Secondary special education           Cell phones     Unmarried\n",
       "4  female             Higher education           Cell phones       Married"
      ]
     },
     "execution_count": 8,
     "metadata": {},
     "output_type": "execute_result"
    }
   ],
   "source": [
    "df[categorical].head()"
   ]
  },
  {
   "cell_type": "markdown",
   "id": "d58cf2b1",
   "metadata": {},
   "source": [
    "### Summary of categorical variables\n",
    "\n",
    "\n",
    "- Có 4 thuộc tính có kiểu dữ liệu object:\n",
    " `sex`, `education`, `product_type`, `family_status`\n",
    " "
   ]
  },
  {
   "cell_type": "code",
   "execution_count": 9,
   "id": "e51907df",
   "metadata": {
    "scrolled": true
   },
   "outputs": [
    {
     "data": {
      "text/plain": [
       "month                  0\n",
       "credit_amount          0\n",
       "credit_term            0\n",
       "age                    0\n",
       "sex                    0\n",
       "education              0\n",
       "product_type           0\n",
       "having_children_flg    0\n",
       "region                 0\n",
       "income                 0\n",
       "family_status          0\n",
       "phone_operator         0\n",
       "is_client              0\n",
       "bad_client_target      0\n",
       "dtype: int64"
      ]
     },
     "execution_count": 9,
     "metadata": {},
     "output_type": "execute_result"
    }
   ],
   "source": [
    "df.isnull().sum()"
   ]
  },
  {
   "cell_type": "markdown",
   "id": "c9a7d44f",
   "metadata": {},
   "source": [
    "### Frequency counts of categorical variables\n",
    "---"
   ]
  },
  {
   "cell_type": "code",
   "execution_count": 10,
   "id": "ec147180",
   "metadata": {
    "scrolled": true
   },
   "outputs": [
    {
     "name": "stdout",
     "output_type": "stream",
     "text": [
      "male      931\n",
      "female    792\n",
      "Name: sex, dtype: int64\n",
      "Secondary special education       836\n",
      "Higher education                  585\n",
      "Secondary education               208\n",
      "Incomplete higher education        86\n",
      "Incomplete secondary education      5\n",
      "PhD degree                          3\n",
      "Name: education, dtype: int64\n",
      "Cell phones                      498\n",
      "Household appliances             471\n",
      "Computers                        178\n",
      "Furniture                        164\n",
      "Clothing                          88\n",
      "Cosmetics and beauty services     55\n",
      "Windows & Doors                   47\n",
      "Tourism                           37\n",
      "Jewelry                           36\n",
      "Construction Materials            30\n",
      "Medical services                  27\n",
      "Fitness                           25\n",
      "Auto                              21\n",
      "Boats                             11\n",
      "Training                          10\n",
      "Audio & Video                      9\n",
      "Sporting goods                     6\n",
      "Garden equipment                   3\n",
      "Repair Services                    3\n",
      "Childen's goods                    2\n",
      "Music                              1\n",
      "Fishing and hunting supplies       1\n",
      "Name: product_type, dtype: int64\n",
      "Another      1201\n",
      "Married       444\n",
      "Unmarried      78\n",
      "Name: family_status, dtype: int64\n"
     ]
    }
   ],
   "source": [
    "for var in categorical:\n",
    "    \n",
    "    print(df[var].value_counts())"
   ]
  },
  {
   "cell_type": "code",
   "execution_count": 11,
   "id": "1c5a26f3",
   "metadata": {
    "scrolled": true
   },
   "outputs": [
    {
     "name": "stdout",
     "output_type": "stream",
     "text": [
      "male      0.540337\n",
      "female    0.459663\n",
      "Name: sex, dtype: float64\n",
      "Secondary special education       0.485200\n",
      "Higher education                  0.339524\n",
      "Secondary education               0.120720\n",
      "Incomplete higher education       0.049913\n",
      "Incomplete secondary education    0.002902\n",
      "PhD degree                        0.001741\n",
      "Name: education, dtype: float64\n",
      "Cell phones                      0.289031\n",
      "Household appliances             0.273360\n",
      "Computers                        0.103308\n",
      "Furniture                        0.095183\n",
      "Clothing                         0.051074\n",
      "Cosmetics and beauty services    0.031921\n",
      "Windows & Doors                  0.027278\n",
      "Tourism                          0.021474\n",
      "Jewelry                          0.020894\n",
      "Construction Materials           0.017411\n",
      "Medical services                 0.015670\n",
      "Fitness                          0.014510\n",
      "Auto                             0.012188\n",
      "Boats                            0.006384\n",
      "Training                         0.005804\n",
      "Audio & Video                    0.005223\n",
      "Sporting goods                   0.003482\n",
      "Garden equipment                 0.001741\n",
      "Repair Services                  0.001741\n",
      "Childen's goods                  0.001161\n",
      "Music                            0.000580\n",
      "Fishing and hunting supplies     0.000580\n",
      "Name: product_type, dtype: float64\n",
      "Another      0.69704\n",
      "Married      0.25769\n",
      "Unmarried    0.04527\n",
      "Name: family_status, dtype: float64\n"
     ]
    }
   ],
   "source": [
    "for var in categorical: \n",
    "    \n",
    "    print(df[var].value_counts() / float(len(df)))"
   ]
  },
  {
   "cell_type": "markdown",
   "id": "ceb3dc29",
   "metadata": {},
   "source": [
    "Ta thấy dữ liệu không bị xuất hiện trường hợp bị thiếu và phải lưu bằng ký hiệu đặc biệt khác "
   ]
  },
  {
   "cell_type": "markdown",
   "id": "7111371b",
   "metadata": {},
   "source": [
    "### Explore Numerical Variables\n",
    "-----"
   ]
  },
  {
   "cell_type": "code",
   "execution_count": 12,
   "id": "b8fcf493",
   "metadata": {},
   "outputs": [
    {
     "name": "stdout",
     "output_type": "stream",
     "text": [
      "Có 10 thuộc tính int:\n",
      "\n",
      " ['month', 'credit_amount', 'credit_term', 'age', 'having_children_flg', 'region', 'income', 'phone_operator', 'is_client', 'bad_client_target']\n"
     ]
    }
   ],
   "source": [
    "numerical = [var for var in df.columns if df[var].dtype!='O']\n",
    "\n",
    "print('Có {} thuộc tính int:\\n'.format(len(numerical)))\n",
    "\n",
    "print('', numerical)"
   ]
  },
  {
   "cell_type": "code",
   "execution_count": 13,
   "id": "8db0ab5c",
   "metadata": {
    "scrolled": true
   },
   "outputs": [
    {
     "data": {
      "text/html": [
       "<div>\n",
       "<style scoped>\n",
       "    .dataframe tbody tr th:only-of-type {\n",
       "        vertical-align: middle;\n",
       "    }\n",
       "\n",
       "    .dataframe tbody tr th {\n",
       "        vertical-align: top;\n",
       "    }\n",
       "\n",
       "    .dataframe thead th {\n",
       "        text-align: right;\n",
       "    }\n",
       "</style>\n",
       "<table border=\"1\" class=\"dataframe\">\n",
       "  <thead>\n",
       "    <tr style=\"text-align: right;\">\n",
       "      <th></th>\n",
       "      <th>month</th>\n",
       "      <th>credit_amount</th>\n",
       "      <th>credit_term</th>\n",
       "      <th>age</th>\n",
       "      <th>having_children_flg</th>\n",
       "      <th>region</th>\n",
       "      <th>income</th>\n",
       "      <th>phone_operator</th>\n",
       "      <th>is_client</th>\n",
       "      <th>bad_client_target</th>\n",
       "    </tr>\n",
       "  </thead>\n",
       "  <tbody>\n",
       "    <tr>\n",
       "      <th>0</th>\n",
       "      <td>1</td>\n",
       "      <td>7000</td>\n",
       "      <td>12</td>\n",
       "      <td>39</td>\n",
       "      <td>0</td>\n",
       "      <td>2</td>\n",
       "      <td>21000</td>\n",
       "      <td>0</td>\n",
       "      <td>0</td>\n",
       "      <td>0</td>\n",
       "    </tr>\n",
       "    <tr>\n",
       "      <th>1</th>\n",
       "      <td>1</td>\n",
       "      <td>19000</td>\n",
       "      <td>6</td>\n",
       "      <td>20</td>\n",
       "      <td>1</td>\n",
       "      <td>2</td>\n",
       "      <td>17000</td>\n",
       "      <td>3</td>\n",
       "      <td>1</td>\n",
       "      <td>0</td>\n",
       "    </tr>\n",
       "    <tr>\n",
       "      <th>2</th>\n",
       "      <td>1</td>\n",
       "      <td>29000</td>\n",
       "      <td>12</td>\n",
       "      <td>23</td>\n",
       "      <td>0</td>\n",
       "      <td>2</td>\n",
       "      <td>31000</td>\n",
       "      <td>2</td>\n",
       "      <td>0</td>\n",
       "      <td>0</td>\n",
       "    </tr>\n",
       "    <tr>\n",
       "      <th>3</th>\n",
       "      <td>1</td>\n",
       "      <td>10000</td>\n",
       "      <td>12</td>\n",
       "      <td>30</td>\n",
       "      <td>1</td>\n",
       "      <td>2</td>\n",
       "      <td>31000</td>\n",
       "      <td>3</td>\n",
       "      <td>1</td>\n",
       "      <td>0</td>\n",
       "    </tr>\n",
       "    <tr>\n",
       "      <th>4</th>\n",
       "      <td>1</td>\n",
       "      <td>14500</td>\n",
       "      <td>12</td>\n",
       "      <td>25</td>\n",
       "      <td>0</td>\n",
       "      <td>2</td>\n",
       "      <td>26000</td>\n",
       "      <td>0</td>\n",
       "      <td>1</td>\n",
       "      <td>0</td>\n",
       "    </tr>\n",
       "  </tbody>\n",
       "</table>\n",
       "</div>"
      ],
      "text/plain": [
       "   month  credit_amount  credit_term  age  having_children_flg  region  \\\n",
       "0      1           7000           12   39                    0       2   \n",
       "1      1          19000            6   20                    1       2   \n",
       "2      1          29000           12   23                    0       2   \n",
       "3      1          10000           12   30                    1       2   \n",
       "4      1          14500           12   25                    0       2   \n",
       "\n",
       "   income  phone_operator  is_client  bad_client_target  \n",
       "0   21000               0          0                  0  \n",
       "1   17000               3          1                  0  \n",
       "2   31000               2          0                  0  \n",
       "3   31000               3          1                  0  \n",
       "4   26000               0          1                  0  "
      ]
     },
     "execution_count": 13,
     "metadata": {},
     "output_type": "execute_result"
    }
   ],
   "source": [
    "df[numerical].head()"
   ]
  },
  {
   "cell_type": "markdown",
   "id": "a5c1bad9",
   "metadata": {},
   "source": [
    "### Summary of numerical variables\n",
    "\n",
    "\n",
    "- Có 6 thuộc tính kiểu dữ liệu int `month`, `credit_amount`, `credit_term`, `age`, `having_children_flg`, `region`, `income`, `phone_operator`, `is_client`, `bad_client_target`\n",
    "\n",
    "- Tất cả đều có các biến số rời rạc\n",
    "\n",
    "- `bad_client_target` là thuộc tính phân lớp"
   ]
  },
  {
   "cell_type": "markdown",
   "id": "cae8f0d8",
   "metadata": {},
   "source": [
    "### Explore problems within numerical variables\n",
    "\n",
    "Kiểm tra tương tự như thuộc tính object\n",
    "\n",
    "### Missing values in numerical variables\n",
    "----"
   ]
  },
  {
   "cell_type": "code",
   "execution_count": 14,
   "id": "1286520f",
   "metadata": {},
   "outputs": [
    {
     "data": {
      "text/plain": [
       "month                  0\n",
       "credit_amount          0\n",
       "credit_term            0\n",
       "age                    0\n",
       "having_children_flg    0\n",
       "region                 0\n",
       "income                 0\n",
       "phone_operator         0\n",
       "is_client              0\n",
       "bad_client_target      0\n",
       "dtype: int64"
      ]
     },
     "execution_count": 14,
     "metadata": {},
     "output_type": "execute_result"
    }
   ],
   "source": [
    "df[numerical].isnull().sum()"
   ]
  },
  {
   "cell_type": "markdown",
   "id": "e2183254",
   "metadata": {},
   "source": [
    "Không có dữ liệu bị thiếu. "
   ]
  },
  {
   "cell_type": "markdown",
   "id": "1a0cc691",
   "metadata": {},
   "source": [
    "# **4. Declare feature vector and target variable** <a class=\"anchor\" id=\"8\"></a>\n",
    "\n",
    "------"
   ]
  },
  {
   "cell_type": "code",
   "execution_count": 15,
   "id": "fea8df3f",
   "metadata": {},
   "outputs": [],
   "source": [
    "x = df.drop(['bad_client_target'],axis=1)\n",
    "y = df['bad_client_target']"
   ]
  },
  {
   "cell_type": "markdown",
   "id": "9683038f",
   "metadata": {},
   "source": [
    "# **5. Split data into separate training and test set** <a class=\"anchor\" id=\"9\"></a>\n",
    "\n",
    "------"
   ]
  },
  {
   "cell_type": "code",
   "execution_count": 16,
   "id": "6aa39d0c",
   "metadata": {},
   "outputs": [],
   "source": [
    "import sklearn\n",
    "from sklearn.model_selection import train_test_split\n",
    "\n",
    "x_train, x_test, y_train, y_test = train_test_split(x, y, test_size = 0.3, random_state = 58)\n"
   ]
  },
  {
   "cell_type": "code",
   "execution_count": null,
   "id": "f227fd53",
   "metadata": {},
   "outputs": [],
   "source": []
  },
  {
   "cell_type": "code",
   "execution_count": 17,
   "id": "0de9143d",
   "metadata": {
    "scrolled": false
   },
   "outputs": [
    {
     "data": {
      "text/plain": [
       "((1206, 13), (517, 13))"
      ]
     },
     "execution_count": 17,
     "metadata": {},
     "output_type": "execute_result"
    }
   ],
   "source": [
    "x_train.shape, x_test.shape"
   ]
  },
  {
   "cell_type": "markdown",
   "id": "1324f51d",
   "metadata": {},
   "source": [
    "# **6. Kiểm tra lại dữ liệu test** <a class=\"anchor\" id=\"10\"></a>\n",
    "\n",
    "----"
   ]
  },
  {
   "cell_type": "code",
   "execution_count": 18,
   "id": "743d9b4a",
   "metadata": {},
   "outputs": [
    {
     "data": {
      "text/plain": [
       "month                   int64\n",
       "credit_amount           int64\n",
       "credit_term             int64\n",
       "age                     int64\n",
       "sex                    object\n",
       "education              object\n",
       "product_type           object\n",
       "having_children_flg     int64\n",
       "region                  int64\n",
       "income                  int64\n",
       "family_status          object\n",
       "phone_operator          int64\n",
       "is_client               int64\n",
       "dtype: object"
      ]
     },
     "execution_count": 18,
     "metadata": {},
     "output_type": "execute_result"
    }
   ],
   "source": [
    "x_train.dtypes"
   ]
  },
  {
   "cell_type": "code",
   "execution_count": 19,
   "id": "25f25e9e",
   "metadata": {},
   "outputs": [
    {
     "data": {
      "text/plain": [
       "['sex', 'education', 'product_type', 'family_status']"
      ]
     },
     "execution_count": 19,
     "metadata": {},
     "output_type": "execute_result"
    }
   ],
   "source": [
    "categorical = [col for col in x_train.columns if x_train[col].dtypes == 'O']\n",
    "\n",
    "categorical"
   ]
  },
  {
   "cell_type": "code",
   "execution_count": 20,
   "id": "163c3069",
   "metadata": {},
   "outputs": [
    {
     "data": {
      "text/plain": [
       "['month',\n",
       " 'credit_amount',\n",
       " 'credit_term',\n",
       " 'age',\n",
       " 'having_children_flg',\n",
       " 'region',\n",
       " 'income',\n",
       " 'phone_operator',\n",
       " 'is_client']"
      ]
     },
     "execution_count": 20,
     "metadata": {},
     "output_type": "execute_result"
    }
   ],
   "source": [
    "numerical = [col for col in x_train.columns if x_train[col].dtypes != 'O']\n",
    "\n",
    "numerical"
   ]
  },
  {
   "cell_type": "markdown",
   "id": "2e51514c",
   "metadata": {},
   "source": [
    "### Engineering missing values in categorical variables"
   ]
  },
  {
   "cell_type": "code",
   "execution_count": 21,
   "id": "cc747703",
   "metadata": {},
   "outputs": [
    {
     "data": {
      "text/plain": [
       "sex              0\n",
       "education        0\n",
       "product_type     0\n",
       "family_status    0\n",
       "dtype: int64"
      ]
     },
     "execution_count": 21,
     "metadata": {},
     "output_type": "execute_result"
    }
   ],
   "source": [
    "x_train[categorical].isnull().sum()"
   ]
  },
  {
   "cell_type": "code",
   "execution_count": null,
   "id": "ad2b4fd7",
   "metadata": {},
   "outputs": [],
   "source": []
  },
  {
   "cell_type": "code",
   "execution_count": 22,
   "id": "42edaed8",
   "metadata": {},
   "outputs": [],
   "source": [
    "for col in categorical:\n",
    "    if x_train[col].isnull().mean()>0:\n",
    "        print(col, (x_train[col].isnull().mean()))"
   ]
  },
  {
   "cell_type": "code",
   "execution_count": 23,
   "id": "b156d790",
   "metadata": {},
   "outputs": [
    {
     "data": {
      "text/plain": [
       "sex              0\n",
       "education        0\n",
       "product_type     0\n",
       "family_status    0\n",
       "dtype: int64"
      ]
     },
     "execution_count": 23,
     "metadata": {},
     "output_type": "execute_result"
    }
   ],
   "source": [
    "x_test[categorical].isnull().sum()"
   ]
  },
  {
   "cell_type": "code",
   "execution_count": 24,
   "id": "0372322c",
   "metadata": {},
   "outputs": [
    {
     "data": {
      "text/plain": [
       "month                  0\n",
       "credit_amount          0\n",
       "credit_term            0\n",
       "age                    0\n",
       "sex                    0\n",
       "education              0\n",
       "product_type           0\n",
       "having_children_flg    0\n",
       "region                 0\n",
       "income                 0\n",
       "family_status          0\n",
       "phone_operator         0\n",
       "is_client              0\n",
       "dtype: int64"
      ]
     },
     "execution_count": 24,
     "metadata": {},
     "output_type": "execute_result"
    }
   ],
   "source": [
    "x_train.isnull().sum()"
   ]
  },
  {
   "cell_type": "code",
   "execution_count": 25,
   "id": "cf80735e",
   "metadata": {},
   "outputs": [
    {
     "data": {
      "text/plain": [
       "month                  0\n",
       "credit_amount          0\n",
       "credit_term            0\n",
       "age                    0\n",
       "sex                    0\n",
       "education              0\n",
       "product_type           0\n",
       "having_children_flg    0\n",
       "region                 0\n",
       "income                 0\n",
       "family_status          0\n",
       "phone_operator         0\n",
       "is_client              0\n",
       "dtype: int64"
      ]
     },
     "execution_count": 25,
     "metadata": {},
     "output_type": "execute_result"
    }
   ],
   "source": [
    "x_test.isnull().sum()"
   ]
  },
  {
   "cell_type": "markdown",
   "id": "475a8fa1",
   "metadata": {},
   "source": [
    "### Encode categorical variables\n",
    "----"
   ]
  },
  {
   "cell_type": "code",
   "execution_count": 26,
   "id": "e4f33dfc",
   "metadata": {},
   "outputs": [
    {
     "data": {
      "text/plain": [
       "['sex', 'education', 'product_type', 'family_status']"
      ]
     },
     "execution_count": 26,
     "metadata": {},
     "output_type": "execute_result"
    }
   ],
   "source": [
    "# print categorical variables\n",
    "\n",
    "categorical"
   ]
  },
  {
   "cell_type": "code",
   "execution_count": 27,
   "id": "5e294e82",
   "metadata": {
    "scrolled": true
   },
   "outputs": [
    {
     "data": {
      "text/html": [
       "<div>\n",
       "<style scoped>\n",
       "    .dataframe tbody tr th:only-of-type {\n",
       "        vertical-align: middle;\n",
       "    }\n",
       "\n",
       "    .dataframe tbody tr th {\n",
       "        vertical-align: top;\n",
       "    }\n",
       "\n",
       "    .dataframe thead th {\n",
       "        text-align: right;\n",
       "    }\n",
       "</style>\n",
       "<table border=\"1\" class=\"dataframe\">\n",
       "  <thead>\n",
       "    <tr style=\"text-align: right;\">\n",
       "      <th></th>\n",
       "      <th>sex</th>\n",
       "      <th>education</th>\n",
       "      <th>product_type</th>\n",
       "      <th>family_status</th>\n",
       "    </tr>\n",
       "  </thead>\n",
       "  <tbody>\n",
       "    <tr>\n",
       "      <th>1252</th>\n",
       "      <td>female</td>\n",
       "      <td>Secondary special education</td>\n",
       "      <td>Cell phones</td>\n",
       "      <td>Married</td>\n",
       "    </tr>\n",
       "    <tr>\n",
       "      <th>1445</th>\n",
       "      <td>female</td>\n",
       "      <td>Secondary special education</td>\n",
       "      <td>Computers</td>\n",
       "      <td>Another</td>\n",
       "    </tr>\n",
       "    <tr>\n",
       "      <th>58</th>\n",
       "      <td>male</td>\n",
       "      <td>Higher education</td>\n",
       "      <td>Furniture</td>\n",
       "      <td>Another</td>\n",
       "    </tr>\n",
       "    <tr>\n",
       "      <th>1623</th>\n",
       "      <td>male</td>\n",
       "      <td>Secondary education</td>\n",
       "      <td>Household appliances</td>\n",
       "      <td>Another</td>\n",
       "    </tr>\n",
       "    <tr>\n",
       "      <th>128</th>\n",
       "      <td>male</td>\n",
       "      <td>Secondary special education</td>\n",
       "      <td>Cell phones</td>\n",
       "      <td>Married</td>\n",
       "    </tr>\n",
       "  </tbody>\n",
       "</table>\n",
       "</div>"
      ],
      "text/plain": [
       "         sex                    education          product_type family_status\n",
       "1252  female  Secondary special education           Cell phones       Married\n",
       "1445  female  Secondary special education             Computers       Another\n",
       "58      male             Higher education             Furniture       Another\n",
       "1623    male          Secondary education  Household appliances       Another\n",
       "128     male  Secondary special education           Cell phones       Married"
      ]
     },
     "execution_count": 27,
     "metadata": {},
     "output_type": "execute_result"
    }
   ],
   "source": [
    "x_train[categorical].head()"
   ]
  },
  {
   "cell_type": "code",
   "execution_count": 28,
   "id": "31ac22b3",
   "metadata": {},
   "outputs": [],
   "source": [
    "import category_encoders as ce"
   ]
  },
  {
   "cell_type": "code",
   "execution_count": 29,
   "id": "c1a69001",
   "metadata": {},
   "outputs": [],
   "source": [
    "encoder = ce.OneHotEncoder(cols=['sex','education','product_type','family_status'])\n",
    "\n",
    "x_train = encoder.fit_transform(x_train)\n",
    "\n",
    "x_test = encoder.transform(x_test)"
   ]
  },
  {
   "cell_type": "code",
   "execution_count": 30,
   "id": "48ff3024",
   "metadata": {},
   "outputs": [
    {
     "data": {
      "text/html": [
       "<div>\n",
       "<style scoped>\n",
       "    .dataframe tbody tr th:only-of-type {\n",
       "        vertical-align: middle;\n",
       "    }\n",
       "\n",
       "    .dataframe tbody tr th {\n",
       "        vertical-align: top;\n",
       "    }\n",
       "\n",
       "    .dataframe thead th {\n",
       "        text-align: right;\n",
       "    }\n",
       "</style>\n",
       "<table border=\"1\" class=\"dataframe\">\n",
       "  <thead>\n",
       "    <tr style=\"text-align: right;\">\n",
       "      <th></th>\n",
       "      <th>month</th>\n",
       "      <th>credit_amount</th>\n",
       "      <th>credit_term</th>\n",
       "      <th>age</th>\n",
       "      <th>sex_1</th>\n",
       "      <th>sex_2</th>\n",
       "      <th>education_1</th>\n",
       "      <th>education_2</th>\n",
       "      <th>education_3</th>\n",
       "      <th>education_4</th>\n",
       "      <th>...</th>\n",
       "      <th>product_type_21</th>\n",
       "      <th>product_type_22</th>\n",
       "      <th>having_children_flg</th>\n",
       "      <th>region</th>\n",
       "      <th>income</th>\n",
       "      <th>family_status_1</th>\n",
       "      <th>family_status_2</th>\n",
       "      <th>family_status_3</th>\n",
       "      <th>phone_operator</th>\n",
       "      <th>is_client</th>\n",
       "    </tr>\n",
       "  </thead>\n",
       "  <tbody>\n",
       "    <tr>\n",
       "      <th>1252</th>\n",
       "      <td>10</td>\n",
       "      <td>17000</td>\n",
       "      <td>6</td>\n",
       "      <td>25</td>\n",
       "      <td>1</td>\n",
       "      <td>0</td>\n",
       "      <td>1</td>\n",
       "      <td>0</td>\n",
       "      <td>0</td>\n",
       "      <td>0</td>\n",
       "      <td>...</td>\n",
       "      <td>0</td>\n",
       "      <td>0</td>\n",
       "      <td>0</td>\n",
       "      <td>2</td>\n",
       "      <td>28000</td>\n",
       "      <td>1</td>\n",
       "      <td>0</td>\n",
       "      <td>0</td>\n",
       "      <td>1</td>\n",
       "      <td>0</td>\n",
       "    </tr>\n",
       "    <tr>\n",
       "      <th>1445</th>\n",
       "      <td>11</td>\n",
       "      <td>19000</td>\n",
       "      <td>12</td>\n",
       "      <td>30</td>\n",
       "      <td>1</td>\n",
       "      <td>0</td>\n",
       "      <td>1</td>\n",
       "      <td>0</td>\n",
       "      <td>0</td>\n",
       "      <td>0</td>\n",
       "      <td>...</td>\n",
       "      <td>0</td>\n",
       "      <td>0</td>\n",
       "      <td>1</td>\n",
       "      <td>2</td>\n",
       "      <td>41000</td>\n",
       "      <td>0</td>\n",
       "      <td>1</td>\n",
       "      <td>0</td>\n",
       "      <td>0</td>\n",
       "      <td>1</td>\n",
       "    </tr>\n",
       "    <tr>\n",
       "      <th>58</th>\n",
       "      <td>1</td>\n",
       "      <td>21000</td>\n",
       "      <td>18</td>\n",
       "      <td>28</td>\n",
       "      <td>0</td>\n",
       "      <td>1</td>\n",
       "      <td>0</td>\n",
       "      <td>1</td>\n",
       "      <td>0</td>\n",
       "      <td>0</td>\n",
       "      <td>...</td>\n",
       "      <td>0</td>\n",
       "      <td>0</td>\n",
       "      <td>1</td>\n",
       "      <td>2</td>\n",
       "      <td>21000</td>\n",
       "      <td>0</td>\n",
       "      <td>1</td>\n",
       "      <td>0</td>\n",
       "      <td>0</td>\n",
       "      <td>1</td>\n",
       "    </tr>\n",
       "    <tr>\n",
       "      <th>1623</th>\n",
       "      <td>12</td>\n",
       "      <td>23500</td>\n",
       "      <td>12</td>\n",
       "      <td>58</td>\n",
       "      <td>0</td>\n",
       "      <td>1</td>\n",
       "      <td>0</td>\n",
       "      <td>0</td>\n",
       "      <td>1</td>\n",
       "      <td>0</td>\n",
       "      <td>...</td>\n",
       "      <td>0</td>\n",
       "      <td>0</td>\n",
       "      <td>0</td>\n",
       "      <td>2</td>\n",
       "      <td>8000</td>\n",
       "      <td>0</td>\n",
       "      <td>1</td>\n",
       "      <td>0</td>\n",
       "      <td>2</td>\n",
       "      <td>1</td>\n",
       "    </tr>\n",
       "    <tr>\n",
       "      <th>128</th>\n",
       "      <td>1</td>\n",
       "      <td>31500</td>\n",
       "      <td>6</td>\n",
       "      <td>39</td>\n",
       "      <td>0</td>\n",
       "      <td>1</td>\n",
       "      <td>1</td>\n",
       "      <td>0</td>\n",
       "      <td>0</td>\n",
       "      <td>0</td>\n",
       "      <td>...</td>\n",
       "      <td>0</td>\n",
       "      <td>0</td>\n",
       "      <td>0</td>\n",
       "      <td>0</td>\n",
       "      <td>42000</td>\n",
       "      <td>1</td>\n",
       "      <td>0</td>\n",
       "      <td>0</td>\n",
       "      <td>1</td>\n",
       "      <td>1</td>\n",
       "    </tr>\n",
       "  </tbody>\n",
       "</table>\n",
       "<p>5 rows × 42 columns</p>\n",
       "</div>"
      ],
      "text/plain": [
       "      month  credit_amount  credit_term  age  sex_1  sex_2  education_1  \\\n",
       "1252     10          17000            6   25      1      0            1   \n",
       "1445     11          19000           12   30      1      0            1   \n",
       "58        1          21000           18   28      0      1            0   \n",
       "1623     12          23500           12   58      0      1            0   \n",
       "128       1          31500            6   39      0      1            1   \n",
       "\n",
       "      education_2  education_3  education_4  ...  product_type_21  \\\n",
       "1252            0            0            0  ...                0   \n",
       "1445            0            0            0  ...                0   \n",
       "58              1            0            0  ...                0   \n",
       "1623            0            1            0  ...                0   \n",
       "128             0            0            0  ...                0   \n",
       "\n",
       "      product_type_22  having_children_flg  region  income  family_status_1  \\\n",
       "1252                0                    0       2   28000                1   \n",
       "1445                0                    1       2   41000                0   \n",
       "58                  0                    1       2   21000                0   \n",
       "1623                0                    0       2    8000                0   \n",
       "128                 0                    0       0   42000                1   \n",
       "\n",
       "      family_status_2  family_status_3  phone_operator  is_client  \n",
       "1252                0                0               1          0  \n",
       "1445                1                0               0          1  \n",
       "58                  1                0               0          1  \n",
       "1623                1                0               2          1  \n",
       "128                 0                0               1          1  \n",
       "\n",
       "[5 rows x 42 columns]"
      ]
     },
     "execution_count": 30,
     "metadata": {},
     "output_type": "execute_result"
    }
   ],
   "source": [
    "x_train.head()"
   ]
  },
  {
   "cell_type": "code",
   "execution_count": 31,
   "id": "7b377ac4",
   "metadata": {
    "scrolled": false
   },
   "outputs": [
    {
     "data": {
      "text/plain": [
       "(1206, 42)"
      ]
     },
     "execution_count": 31,
     "metadata": {},
     "output_type": "execute_result"
    }
   ],
   "source": [
    "x_train.shape"
   ]
  },
  {
   "cell_type": "markdown",
   "id": "b4b0cf7a",
   "metadata": {},
   "source": [
    "Tương tự với `x_test`."
   ]
  },
  {
   "cell_type": "code",
   "execution_count": 32,
   "id": "84ce332d",
   "metadata": {
    "scrolled": true
   },
   "outputs": [
    {
     "data": {
      "text/html": [
       "<div>\n",
       "<style scoped>\n",
       "    .dataframe tbody tr th:only-of-type {\n",
       "        vertical-align: middle;\n",
       "    }\n",
       "\n",
       "    .dataframe tbody tr th {\n",
       "        vertical-align: top;\n",
       "    }\n",
       "\n",
       "    .dataframe thead th {\n",
       "        text-align: right;\n",
       "    }\n",
       "</style>\n",
       "<table border=\"1\" class=\"dataframe\">\n",
       "  <thead>\n",
       "    <tr style=\"text-align: right;\">\n",
       "      <th></th>\n",
       "      <th>month</th>\n",
       "      <th>credit_amount</th>\n",
       "      <th>credit_term</th>\n",
       "      <th>age</th>\n",
       "      <th>sex_1</th>\n",
       "      <th>sex_2</th>\n",
       "      <th>education_1</th>\n",
       "      <th>education_2</th>\n",
       "      <th>education_3</th>\n",
       "      <th>education_4</th>\n",
       "      <th>...</th>\n",
       "      <th>product_type_21</th>\n",
       "      <th>product_type_22</th>\n",
       "      <th>having_children_flg</th>\n",
       "      <th>region</th>\n",
       "      <th>income</th>\n",
       "      <th>family_status_1</th>\n",
       "      <th>family_status_2</th>\n",
       "      <th>family_status_3</th>\n",
       "      <th>phone_operator</th>\n",
       "      <th>is_client</th>\n",
       "    </tr>\n",
       "  </thead>\n",
       "  <tbody>\n",
       "    <tr>\n",
       "      <th>399</th>\n",
       "      <td>3</td>\n",
       "      <td>21000</td>\n",
       "      <td>6</td>\n",
       "      <td>29</td>\n",
       "      <td>1</td>\n",
       "      <td>0</td>\n",
       "      <td>0</td>\n",
       "      <td>1</td>\n",
       "      <td>0</td>\n",
       "      <td>0</td>\n",
       "      <td>...</td>\n",
       "      <td>0</td>\n",
       "      <td>0</td>\n",
       "      <td>0</td>\n",
       "      <td>1</td>\n",
       "      <td>31000</td>\n",
       "      <td>0</td>\n",
       "      <td>1</td>\n",
       "      <td>0</td>\n",
       "      <td>1</td>\n",
       "      <td>0</td>\n",
       "    </tr>\n",
       "    <tr>\n",
       "      <th>230</th>\n",
       "      <td>2</td>\n",
       "      <td>21000</td>\n",
       "      <td>24</td>\n",
       "      <td>27</td>\n",
       "      <td>0</td>\n",
       "      <td>1</td>\n",
       "      <td>1</td>\n",
       "      <td>0</td>\n",
       "      <td>0</td>\n",
       "      <td>0</td>\n",
       "      <td>...</td>\n",
       "      <td>0</td>\n",
       "      <td>0</td>\n",
       "      <td>1</td>\n",
       "      <td>2</td>\n",
       "      <td>16000</td>\n",
       "      <td>0</td>\n",
       "      <td>1</td>\n",
       "      <td>0</td>\n",
       "      <td>1</td>\n",
       "      <td>0</td>\n",
       "    </tr>\n",
       "    <tr>\n",
       "      <th>421</th>\n",
       "      <td>3</td>\n",
       "      <td>176000</td>\n",
       "      <td>36</td>\n",
       "      <td>87</td>\n",
       "      <td>0</td>\n",
       "      <td>1</td>\n",
       "      <td>0</td>\n",
       "      <td>1</td>\n",
       "      <td>0</td>\n",
       "      <td>0</td>\n",
       "      <td>...</td>\n",
       "      <td>0</td>\n",
       "      <td>0</td>\n",
       "      <td>0</td>\n",
       "      <td>2</td>\n",
       "      <td>26000</td>\n",
       "      <td>0</td>\n",
       "      <td>0</td>\n",
       "      <td>1</td>\n",
       "      <td>0</td>\n",
       "      <td>1</td>\n",
       "    </tr>\n",
       "    <tr>\n",
       "      <th>693</th>\n",
       "      <td>6</td>\n",
       "      <td>19000</td>\n",
       "      <td>12</td>\n",
       "      <td>23</td>\n",
       "      <td>1</td>\n",
       "      <td>0</td>\n",
       "      <td>1</td>\n",
       "      <td>0</td>\n",
       "      <td>0</td>\n",
       "      <td>0</td>\n",
       "      <td>...</td>\n",
       "      <td>0</td>\n",
       "      <td>0</td>\n",
       "      <td>0</td>\n",
       "      <td>2</td>\n",
       "      <td>26000</td>\n",
       "      <td>1</td>\n",
       "      <td>0</td>\n",
       "      <td>0</td>\n",
       "      <td>1</td>\n",
       "      <td>1</td>\n",
       "    </tr>\n",
       "    <tr>\n",
       "      <th>1516</th>\n",
       "      <td>11</td>\n",
       "      <td>10500</td>\n",
       "      <td>12</td>\n",
       "      <td>23</td>\n",
       "      <td>0</td>\n",
       "      <td>1</td>\n",
       "      <td>1</td>\n",
       "      <td>0</td>\n",
       "      <td>0</td>\n",
       "      <td>0</td>\n",
       "      <td>...</td>\n",
       "      <td>0</td>\n",
       "      <td>0</td>\n",
       "      <td>1</td>\n",
       "      <td>2</td>\n",
       "      <td>18000</td>\n",
       "      <td>0</td>\n",
       "      <td>1</td>\n",
       "      <td>0</td>\n",
       "      <td>4</td>\n",
       "      <td>1</td>\n",
       "    </tr>\n",
       "  </tbody>\n",
       "</table>\n",
       "<p>5 rows × 42 columns</p>\n",
       "</div>"
      ],
      "text/plain": [
       "      month  credit_amount  credit_term  age  sex_1  sex_2  education_1  \\\n",
       "399       3          21000            6   29      1      0            0   \n",
       "230       2          21000           24   27      0      1            1   \n",
       "421       3         176000           36   87      0      1            0   \n",
       "693       6          19000           12   23      1      0            1   \n",
       "1516     11          10500           12   23      0      1            1   \n",
       "\n",
       "      education_2  education_3  education_4  ...  product_type_21  \\\n",
       "399             1            0            0  ...                0   \n",
       "230             0            0            0  ...                0   \n",
       "421             1            0            0  ...                0   \n",
       "693             0            0            0  ...                0   \n",
       "1516            0            0            0  ...                0   \n",
       "\n",
       "      product_type_22  having_children_flg  region  income  family_status_1  \\\n",
       "399                 0                    0       1   31000                0   \n",
       "230                 0                    1       2   16000                0   \n",
       "421                 0                    0       2   26000                0   \n",
       "693                 0                    0       2   26000                1   \n",
       "1516                0                    1       2   18000                0   \n",
       "\n",
       "      family_status_2  family_status_3  phone_operator  is_client  \n",
       "399                 1                0               1          0  \n",
       "230                 1                0               1          0  \n",
       "421                 0                1               0          1  \n",
       "693                 0                0               1          1  \n",
       "1516                1                0               4          1  \n",
       "\n",
       "[5 rows x 42 columns]"
      ]
     },
     "execution_count": 32,
     "metadata": {},
     "output_type": "execute_result"
    }
   ],
   "source": [
    "x_test.head()"
   ]
  },
  {
   "cell_type": "code",
   "execution_count": 33,
   "id": "a36dcbb8",
   "metadata": {},
   "outputs": [
    {
     "data": {
      "text/plain": [
       "(517, 42)"
      ]
     },
     "execution_count": 33,
     "metadata": {},
     "output_type": "execute_result"
    }
   ],
   "source": [
    "x_test.shape"
   ]
  },
  {
   "cell_type": "markdown",
   "id": "44641928",
   "metadata": {},
   "source": [
    "Đã có sẵn bộ đào tạo và thử nghiệm để xây dựng mô hình. Trước đó, chúng ta nên ánh xạ tất cả các biến đối tượng vào cùng một tỷ lệ."
   ]
  },
  {
   "cell_type": "markdown",
   "id": "3590a057",
   "metadata": {},
   "source": [
    "\n",
    "\n",
    "----"
   ]
  },
  {
   "cell_type": "markdown",
   "id": "d340a95d",
   "metadata": {},
   "source": [
    "# **8. Model training** <a class=\"anchor\" id=\"12\"></a>\n",
    "\n",
    "-----"
   ]
  },
  {
   "cell_type": "code",
   "execution_count": 34,
   "id": "77617dfe",
   "metadata": {},
   "outputs": [
    {
     "data": {
      "text/html": [
       "<style>#sk-container-id-1 {color: black;background-color: white;}#sk-container-id-1 pre{padding: 0;}#sk-container-id-1 div.sk-toggleable {background-color: white;}#sk-container-id-1 label.sk-toggleable__label {cursor: pointer;display: block;width: 100%;margin-bottom: 0;padding: 0.3em;box-sizing: border-box;text-align: center;}#sk-container-id-1 label.sk-toggleable__label-arrow:before {content: \"▸\";float: left;margin-right: 0.25em;color: #696969;}#sk-container-id-1 label.sk-toggleable__label-arrow:hover:before {color: black;}#sk-container-id-1 div.sk-estimator:hover label.sk-toggleable__label-arrow:before {color: black;}#sk-container-id-1 div.sk-toggleable__content {max-height: 0;max-width: 0;overflow: hidden;text-align: left;background-color: #f0f8ff;}#sk-container-id-1 div.sk-toggleable__content pre {margin: 0.2em;color: black;border-radius: 0.25em;background-color: #f0f8ff;}#sk-container-id-1 input.sk-toggleable__control:checked~div.sk-toggleable__content {max-height: 200px;max-width: 100%;overflow: auto;}#sk-container-id-1 input.sk-toggleable__control:checked~label.sk-toggleable__label-arrow:before {content: \"▾\";}#sk-container-id-1 div.sk-estimator input.sk-toggleable__control:checked~label.sk-toggleable__label {background-color: #d4ebff;}#sk-container-id-1 div.sk-label input.sk-toggleable__control:checked~label.sk-toggleable__label {background-color: #d4ebff;}#sk-container-id-1 input.sk-hidden--visually {border: 0;clip: rect(1px 1px 1px 1px);clip: rect(1px, 1px, 1px, 1px);height: 1px;margin: -1px;overflow: hidden;padding: 0;position: absolute;width: 1px;}#sk-container-id-1 div.sk-estimator {font-family: monospace;background-color: #f0f8ff;border: 1px dotted black;border-radius: 0.25em;box-sizing: border-box;margin-bottom: 0.5em;}#sk-container-id-1 div.sk-estimator:hover {background-color: #d4ebff;}#sk-container-id-1 div.sk-parallel-item::after {content: \"\";width: 100%;border-bottom: 1px solid gray;flex-grow: 1;}#sk-container-id-1 div.sk-label:hover label.sk-toggleable__label {background-color: #d4ebff;}#sk-container-id-1 div.sk-serial::before {content: \"\";position: absolute;border-left: 1px solid gray;box-sizing: border-box;top: 0;bottom: 0;left: 50%;z-index: 0;}#sk-container-id-1 div.sk-serial {display: flex;flex-direction: column;align-items: center;background-color: white;padding-right: 0.2em;padding-left: 0.2em;position: relative;}#sk-container-id-1 div.sk-item {position: relative;z-index: 1;}#sk-container-id-1 div.sk-parallel {display: flex;align-items: stretch;justify-content: center;background-color: white;position: relative;}#sk-container-id-1 div.sk-item::before, #sk-container-id-1 div.sk-parallel-item::before {content: \"\";position: absolute;border-left: 1px solid gray;box-sizing: border-box;top: 0;bottom: 0;left: 50%;z-index: -1;}#sk-container-id-1 div.sk-parallel-item {display: flex;flex-direction: column;z-index: 1;position: relative;background-color: white;}#sk-container-id-1 div.sk-parallel-item:first-child::after {align-self: flex-end;width: 50%;}#sk-container-id-1 div.sk-parallel-item:last-child::after {align-self: flex-start;width: 50%;}#sk-container-id-1 div.sk-parallel-item:only-child::after {width: 0;}#sk-container-id-1 div.sk-dashed-wrapped {border: 1px dashed gray;margin: 0 0.4em 0.5em 0.4em;box-sizing: border-box;padding-bottom: 0.4em;background-color: white;}#sk-container-id-1 div.sk-label label {font-family: monospace;font-weight: bold;display: inline-block;line-height: 1.2em;}#sk-container-id-1 div.sk-label-container {text-align: center;}#sk-container-id-1 div.sk-container {/* jupyter's `normalize.less` sets `[hidden] { display: none; }` but bootstrap.min.css set `[hidden] { display: none !important; }` so we also need the `!important` here to be able to override the default hidden behavior on the sphinx rendered scikit-learn.org. See: https://github.com/scikit-learn/scikit-learn/issues/21755 */display: inline-block !important;position: relative;}#sk-container-id-1 div.sk-text-repr-fallback {display: none;}</style><div id=\"sk-container-id-1\" class=\"sk-top-container\"><div class=\"sk-text-repr-fallback\"><pre>GaussianNB()</pre><b>In a Jupyter environment, please rerun this cell to show the HTML representation or trust the notebook. <br />On GitHub, the HTML representation is unable to render, please try loading this page with nbviewer.org.</b></div><div class=\"sk-container\" hidden><div class=\"sk-item\"><div class=\"sk-estimator sk-toggleable\"><input class=\"sk-toggleable__control sk-hidden--visually\" id=\"sk-estimator-id-1\" type=\"checkbox\" checked><label for=\"sk-estimator-id-1\" class=\"sk-toggleable__label sk-toggleable__label-arrow\">GaussianNB</label><div class=\"sk-toggleable__content\"><pre>GaussianNB()</pre></div></div></div></div></div>"
      ],
      "text/plain": [
       "GaussianNB()"
      ]
     },
     "execution_count": 34,
     "metadata": {},
     "output_type": "execute_result"
    }
   ],
   "source": [
    "from sklearn.naive_bayes import GaussianNB\n",
    "\n",
    "nb = GaussianNB()\n",
    "\n",
    "nb.fit(x_train, y_train)"
   ]
  },
  {
   "cell_type": "markdown",
   "id": "249c9e3e",
   "metadata": {},
   "source": [
    "# **9. Predict the results** <a class=\"anchor\" id=\"13\"></a>\n",
    "\n",
    "-----\n"
   ]
  },
  {
   "cell_type": "code",
   "execution_count": 35,
   "id": "d2277dd1",
   "metadata": {
    "scrolled": false
   },
   "outputs": [
    {
     "data": {
      "text/plain": [
       "array([0, 0, 0, 1, 0, 0, 0, 0, 0, 0, 0, 0, 0, 0, 0, 0, 0, 0, 0, 0, 0, 0,\n",
       "       0, 0, 0, 0, 0, 0, 0, 0, 0, 0, 0, 0, 0, 0, 0, 0, 0, 0, 0, 0, 0, 0,\n",
       "       0, 0, 0, 0, 0, 0, 0, 0, 0, 0, 0, 0, 0, 0, 0, 0, 0, 0, 0, 0, 0, 0,\n",
       "       0, 0, 0, 0, 0, 0, 0, 0, 0, 0, 0, 0, 0, 0, 0, 0, 0, 0, 0, 0, 0, 0,\n",
       "       0, 0, 0, 0, 0, 0, 0, 0, 0, 0, 0, 0, 0, 0, 0, 0, 0, 0, 0, 0, 0, 0,\n",
       "       0, 0, 0, 0, 0, 0, 0, 0, 0, 0, 0, 0, 0, 0, 0, 0, 0, 0, 0, 0, 0, 0,\n",
       "       0, 0, 0, 0, 0, 0, 0, 0, 0, 0, 0, 0, 0, 0, 0, 0, 0, 0, 0, 0, 0, 0,\n",
       "       0, 0, 0, 0, 0, 0, 0, 0, 0, 0, 0, 0, 0, 0, 0, 0, 0, 0, 0, 0, 0, 0,\n",
       "       0, 0, 0, 0, 0, 0, 0, 0, 0, 0, 0, 0, 0, 0, 0, 0, 0, 0, 0, 0, 0, 0,\n",
       "       0, 0, 0, 0, 0, 0, 1, 0, 0, 0, 0, 0, 0, 0, 0, 0, 0, 0, 0, 0, 0, 0,\n",
       "       0, 0, 0, 0, 0, 0, 0, 0, 0, 0, 0, 0, 0, 0, 0, 0, 0, 0, 0, 0, 0, 0,\n",
       "       0, 0, 0, 0, 0, 0, 1, 0, 0, 0, 0, 0, 0, 0, 0, 0, 0, 0, 0, 0, 0, 0,\n",
       "       0, 0, 0, 0, 0, 0, 0, 0, 0, 0, 0, 0, 0, 0, 0, 0, 1, 0, 0, 0, 0, 0,\n",
       "       0, 0, 0, 0, 0, 0, 0, 0, 0, 0, 0, 0, 0, 0, 0, 0, 0, 0, 0, 0, 0, 0,\n",
       "       0, 0, 0, 0, 0, 0, 0, 0, 0, 0, 0, 0, 0, 0, 0, 0, 0, 0, 0, 0, 0, 0,\n",
       "       0, 0, 0, 0, 0, 0, 0, 0, 0, 0, 0, 0, 0, 0, 0, 0, 0, 0, 0, 0, 0, 0,\n",
       "       0, 0, 0, 0, 0, 0, 0, 0, 0, 0, 0, 0, 0, 0, 0, 0, 0, 0, 0, 0, 0, 0,\n",
       "       0, 0, 0, 0, 0, 0, 0, 0, 0, 0, 0, 0, 0, 0, 0, 0, 0, 0, 0, 0, 0, 0,\n",
       "       0, 0, 0, 0, 1, 0, 0, 0, 0, 0, 0, 0, 0, 0, 0, 0, 0, 0, 0, 0, 0, 0,\n",
       "       0, 0, 0, 0, 0, 0, 0, 0, 0, 0, 0, 0, 0, 0, 0, 0, 0, 0, 0, 0, 0, 0,\n",
       "       0, 0, 0, 0, 0, 0, 0, 0, 0, 0, 0, 0, 0, 0, 0, 0, 0, 0, 0, 0, 0, 0,\n",
       "       0, 0, 0, 0, 0, 0, 0, 0, 0, 0, 0, 0, 0, 0, 0, 0, 0, 0, 0, 0, 0, 0,\n",
       "       0, 0, 0, 0, 0, 0, 0, 0, 0, 0, 0, 0, 0, 0, 0, 0, 0, 0, 0, 0, 0, 0,\n",
       "       0, 0, 0, 0, 0, 0, 0, 0, 0, 0, 0], dtype=int64)"
      ]
     },
     "execution_count": 35,
     "metadata": {},
     "output_type": "execute_result"
    }
   ],
   "source": [
    "y_pred = nb.predict(x_test)\n",
    "y_pred"
   ]
  },
  {
   "cell_type": "markdown",
   "id": "e1cd6a04",
   "metadata": {},
   "source": [
    "# **10. Check accuracy score** <a class=\"anchor\" id=\"14\"></a>\n",
    "------"
   ]
  },
  {
   "cell_type": "code",
   "execution_count": 36,
   "id": "16773ebf",
   "metadata": {
    "scrolled": true
   },
   "outputs": [
    {
     "name": "stdout",
     "output_type": "stream",
     "text": [
      "Độ chính xác mô hình: 0.8781\n"
     ]
    }
   ],
   "source": [
    "from sklearn.metrics import accuracy_score\n",
    "\n",
    "print('Độ chính xác mô hình: {0:0.4f}'. format(accuracy_score(y_test, y_pred)))"
   ]
  },
  {
   "cell_type": "markdown",
   "id": "84fa0de5",
   "metadata": {},
   "source": [
    "**y_test** là lớp thực and **y_pred** là lớp dự đoán."
   ]
  },
  {
   "cell_type": "markdown",
   "id": "a8e72b1f",
   "metadata": {},
   "source": [
    "### Compare the train-set and test-set accuracy\n",
    "\n",
    "\n",
    "Bây giờ, so sánh độ chính xác của train-set và test-set để kiểm tra xem có bị overfitting hay không."
   ]
  },
  {
   "cell_type": "code",
   "execution_count": 37,
   "id": "737a0493",
   "metadata": {},
   "outputs": [
    {
     "data": {
      "text/plain": [
       "array([0, 0, 0, ..., 0, 0, 0], dtype=int64)"
      ]
     },
     "execution_count": 37,
     "metadata": {},
     "output_type": "execute_result"
    }
   ],
   "source": [
    "y_pred_train = nb.predict(x_train)\n",
    "\n",
    "y_pred_train"
   ]
  },
  {
   "cell_type": "code",
   "execution_count": 38,
   "id": "edcec00c",
   "metadata": {},
   "outputs": [
    {
     "name": "stdout",
     "output_type": "stream",
     "text": [
      "Độ chính xác: 0.8889\n"
     ]
    }
   ],
   "source": [
    "print('Độ chính xác: {0:0.4f}'. format(accuracy_score(y_train, y_pred_train)))"
   ]
  },
  {
   "cell_type": "markdown",
   "id": "b094fafe",
   "metadata": {},
   "source": [
    "### Check for overfitting and unberfitting"
   ]
  },
  {
   "cell_type": "code",
   "execution_count": 39,
   "id": "ec05fe11",
   "metadata": {},
   "outputs": [
    {
     "name": "stdout",
     "output_type": "stream",
     "text": [
      "Training set score: 0.8889\n",
      "Test set score: 0.8781\n"
     ]
    }
   ],
   "source": [
    "print('Training set score: {:.4f}'.format(nb.score(x_train, y_train)))\n",
    "\n",
    "print('Test set score: {:.4f}'.format(nb.score(x_test, y_test)))"
   ]
  },
  {
   "cell_type": "markdown",
   "id": "8e397e34",
   "metadata": {},
   "source": [
    "Độ chính xác training là 0,8889 trong khi độ chính xác của testing là 0,8781. Hai giá trị này có thể xem là tương đương nhau. Vì vậy, không có dấu hiệu của việc overfitting."
   ]
  },
  {
   "cell_type": "markdown",
   "id": "abeb45e0",
   "metadata": {},
   "source": [
    "### Compare model accuracy with null accuracy\n",
    "\n",
    "\n",
    "Vì vậy, độ chính xác của mô hình là 0,8781. Tuy nhiên, chúng tôi không thể nói rằng mô hình của chúng tôi là rất tốt dựa trên độ chính xác ở trên. Chúng ta phải so sánh nó với độ **Null accuracy**. Null accuracy là độ chính xác có thể đạt được bằng cách luôn dự đoán lớp thường xuyên nhất. Vì vậy, trước tiên chúng ta nên kiểm tra sự phân bố lớp trong tập kiểm tra."
   ]
  },
  {
   "cell_type": "code",
   "execution_count": 40,
   "id": "a49a58ef",
   "metadata": {},
   "outputs": [
    {
     "data": {
      "text/plain": [
       "0    457\n",
       "1     60\n",
       "Name: bad_client_target, dtype: int64"
      ]
     },
     "execution_count": 40,
     "metadata": {},
     "output_type": "execute_result"
    }
   ],
   "source": [
    "y_test.value_counts()"
   ]
  },
  {
   "cell_type": "markdown",
   "id": "4af0d709",
   "metadata": {},
   "source": [
    "Chúng ta có thể thấy rằng số lần xuất hiện của lớp thường xuyên nhất là 463. Vì vậy, chúng ta có thể tính toán độ chính xác rỗng bằng cách chia 463 cho tổng số lần xuất hiện."
   ]
  },
  {
   "cell_type": "code",
   "execution_count": 41,
   "id": "9da8eea1",
   "metadata": {},
   "outputs": [
    {
     "name": "stdout",
     "output_type": "stream",
     "text": [
      "Null accuracy score: 0.8956\n"
     ]
    }
   ],
   "source": [
    "null_accuracy = (463/(463+54))\n",
    "\n",
    "print('Null accuracy score: {0:0.4f}'. format(null_accuracy))"
   ]
  },
  {
   "cell_type": "markdown",
   "id": "dc1b602e",
   "metadata": {},
   "source": [
    "Độ chính xác của mô hình là 0,8839 còn điểm chính xác rỗng là 0,8956. \n",
    "\n",
    "Có thể kết luận rằng độ chính xác của mô hình là rất tốt. \n",
    "\n",
    "Tuy nhiên, nó không cung cấp phân phối cơ bản của các giá trị. \n",
    "\n",
    "Ngoài ra, nó không cho biết bất cứ điều gì về loại lỗi mà người phân loại đang thực hiện. Có một công cụ khác được gọi là **Confusion matrix** để giải quyết vấn đề này."
   ]
  },
  {
   "cell_type": "markdown",
   "id": "bcdc4fbb",
   "metadata": {},
   "source": [
    "# **11. Confusion matrix** <a class=\"anchor\" id=\"15\"></a>\n",
    "\n",
    "[Table of Contents](#0.1)\n",
    "\n",
    "\n",
    "**Confusion matrix** là một công cụ để tóm tắt hiệu suất của một thuật toán phân loại.Confusion matrix cho chúng ta một bức tranh rõ ràng về hiệu suất của mô hình phân loại và các loại lỗi do mô hình tạo ra. Nó cung cấp một bản tóm tắt các dự đoán đúng và sai được chia nhỏ theo từng danh mục. Bản tóm tắt được trình bày dưới dạng bảng.\n",
    "\n",
    "\n",
    "Có thể có bốn loại kết quả trong khi đánh giá hoạt động của mô hình phân loại. Bốn kết quả này được mô tả dưới đây:\n",
    "\n",
    "**True Positives (TP)** – xảy ra khi chúng ta dự đoán một quan sát thuộc về một lớp nhất định và quan sát thực sự thuộc về lớp đó.\n",
    "\n",
    "\n",
    "**True Negatives (TN)** –  xảy ra khi chúng ta dự đoán một quan sát không thuộc một lớp nhất định và quan sát thực sự không thuộc lớp đó.\n",
    "\n",
    "\n",
    "**False Positives (FP)** – xảy ra khi chúng ta dự đoán một quan sát thuộc một lớp nào đó nhưng quan sát thực sự không thuộc lớp đó. Loại lỗi này được gọi là **lỗi Loại I**.\n",
    "\n",
    "\n",
    "\n",
    "**False Negatives (FN)** –  xảy ra khi chúng ta dự đoán một quan sát không thuộc về một lớp nào đó nhưng quan sát thực sự thuộc về lớp đó. Đây là một lỗi rất nghiêm trọng và nó được gọi là **lỗi Loại II**.\n",
    "\n",
    "\n",
    "Bốn kết quả này được tóm tắt trong một confusion matrix được đưa ra dưới đây."
   ]
  },
  {
   "cell_type": "code",
   "execution_count": 42,
   "id": "b66ea1d9",
   "metadata": {},
   "outputs": [
    {
     "name": "stdout",
     "output_type": "stream",
     "text": [
      "Confusion matrix\n",
      "\n",
      " [[453   4]\n",
      " [ 59   1]]\n",
      "\n",
      "True Positives(TP) =  453\n",
      "\n",
      "True Negatives(TN) =  1\n",
      "\n",
      "False Positives(FP) =  4\n",
      "\n",
      "False Negatives(FN) =  59\n"
     ]
    }
   ],
   "source": [
    "from sklearn.metrics import confusion_matrix\n",
    "\n",
    "cm = confusion_matrix(y_test, y_pred)\n",
    "\n",
    "print('Confusion matrix\\n\\n', cm)\n",
    "\n",
    "print('\\nTrue Positives(TP) = ', cm[0,0])\n",
    "\n",
    "print('\\nTrue Negatives(TN) = ', cm[1,1])\n",
    "\n",
    "print('\\nFalse Positives(FP) = ', cm[0,1])\n",
    "\n",
    "print('\\nFalse Negatives(FN) = ', cm[1,0])"
   ]
  },
  {
   "cell_type": "code",
   "execution_count": 43,
   "id": "9ba69a5f",
   "metadata": {},
   "outputs": [
    {
     "data": {
      "text/plain": [
       "<Axes: >"
      ]
     },
     "execution_count": 43,
     "metadata": {},
     "output_type": "execute_result"
    },
    {
     "data": {
      "image/png": "[encoded data removed]",
      "text/plain": [
       "<Figure size 640x480 with 2 Axes>"
      ]
     },
     "metadata": {},
     "output_type": "display_data"
    }
   ],
   "source": [
    "cm_matrix = pd.DataFrame(data=cm, columns=['Actual Positive:1', 'Actual Negative:0'], \n",
    "                                 index=['Predict Positive:1', 'Predict Negative:0'])\n",
    "\n",
    "sns.heatmap(cm_matrix, annot=True, fmt='d', cmap='YlGnBu')"
   ]
  },
  {
   "cell_type": "markdown",
   "id": "88d9049e",
   "metadata": {},
   "source": [
    "# **12. Classification report** <a class=\"anchor\" id=\"16\"></a>\n",
    "\n",
    "-----"
   ]
  },
  {
   "cell_type": "code",
   "execution_count": 44,
   "id": "0343b4af",
   "metadata": {},
   "outputs": [
    {
     "name": "stdout",
     "output_type": "stream",
     "text": [
      "              precision    recall  f1-score   support\n",
      "\n",
      "           0       0.88      0.99      0.93       457\n",
      "           1       0.20      0.02      0.03        60\n",
      "\n",
      "    accuracy                           0.88       517\n",
      "   macro avg       0.54      0.50      0.48       517\n",
      "weighted avg       0.81      0.88      0.83       517\n",
      "\n"
     ]
    }
   ],
   "source": [
    "from sklearn.metrics import classification_report\n",
    "\n",
    "print(classification_report(y_test, y_pred))"
   ]
  },
  {
   "cell_type": "markdown",
   "id": "1b81226e",
   "metadata": {},
   "source": [
    "# **15. k-Fold Cross Validation** <a class=\"anchor\" id=\"19\"></a>\n",
    "-----"
   ]
  },
  {
   "cell_type": "code",
   "execution_count": 53,
   "id": "2f5f60e2",
   "metadata": {},
   "outputs": [
    {
     "name": "stdout",
     "output_type": "stream",
     "text": [
      "Cross-validation scores:[0.88429752 0.88429752 0.88429752 0.88429752 0.87603306 0.88429752\n",
      " 0.89166667 0.89166667 0.88333333 0.85      ]\n"
     ]
    }
   ],
   "source": [
    "from sklearn.model_selection import cross_val_score\n",
    "\n",
    "scores = cross_val_score(nb, x_train, y_train, cv = 10, scoring='accuracy')\n",
    "\n",
    "print('Cross-validation scores:{}'.format(scores))"
   ]
  },
  {
   "cell_type": "code",
   "execution_count": 54,
   "id": "c34c014a",
   "metadata": {},
   "outputs": [
    {
     "name": "stdout",
     "output_type": "stream",
     "text": [
      "Average cross-validation score: 0.8814\n"
     ]
    }
   ],
   "source": [
    "print('Average cross-validation score: {:.4f}'.format(scores.mean()))"
   ]
  },
  {
   "cell_type": "code",
   "execution_count": null,
   "id": "5cc6afc3",
   "metadata": {},
   "outputs": [],
   "source": []
  }
 ],
 "metadata": {
  "kernelspec": {
   "display_name": "Python 3 (ipykernel)",
   "language": "python",
   "name": "python3"
  },
  "language_info": {
   "codemirror_mode": {
    "name": "ipython",
    "version": 3
   },
   "file_extension": ".py",
   "mimetype": "text/x-python",
   "name": "python",
   "nbconvert_exporter": "python",
   "pygments_lexer": "ipython3",
   "version": "3.11.4"
  }
 },
 "nbformat": 4,
 "nbformat_minor": 5
}
